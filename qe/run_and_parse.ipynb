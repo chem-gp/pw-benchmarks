{
 "cells": [
  {
   "attachments": {},
   "cell_type": "markdown",
   "metadata": {},
   "source": [
    "To stop processes\n",
    "```bash\n",
    "pkill -9 -f pw.x\n",
    "pkill -9 -f gipaw.x\n",
    "\n",
    "```"
   ]
  },
  {
   "cell_type": "code",
   "execution_count": null,
   "metadata": {},
   "outputs": [],
   "source": []
  },
  {
   "cell_type": "code",
   "execution_count": null,
   "metadata": {},
   "outputs": [],
   "source": [
    "crystal=read(\"test/MIN-167-350K-CuCbPyz.cif\")"
   ]
  },
  {
   "cell_type": "code",
   "execution_count": null,
   "metadata": {},
   "outputs": [],
   "source": [
    "from ase.visualize import view\n",
    "view(crystal)"
   ]
  },
  {
   "cell_type": "code",
   "execution_count": null,
   "metadata": {},
   "outputs": [],
   "source": [
    "import os\n",
    "print(os.getcwd())"
   ]
  },
  {
   "cell_type": "code",
   "execution_count": null,
   "metadata": {},
   "outputs": [],
   "source": []
  },
  {
   "cell_type": "code",
   "execution_count": null,
   "metadata": {},
   "outputs": [],
   "source": [
    "crystal=read(\"../structures/KTU-183_2_auto.cif\")\n",
    "view(crystal)"
   ]
  },
  {
   "cell_type": "code",
   "execution_count": null,
   "metadata": {},
   "outputs": [],
   "source": [
    "len(crystal)"
   ]
  },
  {
   "cell_type": "code",
   "execution_count": null,
   "metadata": {},
   "outputs": [],
   "source": [
    "%%time\n",
    "%load_ext autoreload\n",
    "%autoreload 2\n",
    "\n",
    "from runner import pw_runner\n",
    "from ase.io import read, write\n",
    "\n",
    "import time\n",
    "\n",
    "\n",
    "scf_times = []\n",
    "gipaw_times = []\n",
    "\n",
    "for i in range(13,14):\n",
    "\n",
    "    np_pw = i+1\n",
    "    np_gipaw = i+1\n",
    "\n",
    "    pw_params = {\n",
    "        'prefix':'crystal', \n",
    "        'restart_mode' : 'from_scratch',\n",
    "        'tstress':True, \n",
    "        'tprnfor':True, \n",
    "        'nosym':True, \n",
    "        'ecutwfc':50, \n",
    "        'kpts':(1, 1, 1),\n",
    "        # 'kpts':None, \n",
    "        'ecutrho' : 500,\n",
    "        'occupations' : 'smearing', \n",
    "        'smearing' : 'gauss', \n",
    "        'degauss' : 1.0e-2\n",
    "    }\n",
    "\n",
    "    tms = read(\"../structures/tms.xyz\")\n",
    "    # crystal=read(\"../structures/MIN-167-350K-CuCbPyz.cif\")\n",
    "    # crystal=read(\"../structures/HIK-143 293K-activated.cif\")\n",
    "    # crystal=read(\"../structures/HIK-143 MeOH.cif\")\n",
    "    # crystal=read(\"../structures/KTU-183_2_auto.cif\")\n",
    "    a = 20.0\n",
    "    crystal = tms\n",
    "    crystal.set_cell([a, a, a])\n",
    "    crystal.set_cell([(a, 0, 0), (0, a, 0), (0, 0, a)])\n",
    "    crystal.set_pbc(True)\n",
    "\n",
    "    calc_dir = pw_runner.make_calc_dir()\n",
    "\n",
    "    print(\"Starting QE/SCF calculation...\")\n",
    "    start_time = time.time()\n",
    "    pw_runner.run_pw_scf(calc_dir, crystal, num_proc_pw=np_pw, pw_params=pw_params)\n",
    "    scf_time = time.time() - start_time\n",
    "\n",
    "    print(\"Starting gipaw calculation...\")\n",
    "    gipaw_out = pw_runner.run_gipaw(calc_dir, num_proc_gipaw=np_gipaw)\n",
    "    gipaw_time = time.time() - scf_time - start_time\n",
    "\n",
    "    chemical_shifts_iso, chemical_shifts_tensors = pw_runner.parse_gipaw_output(calc_dir + '/espresso_gipaw.pwo', num_atoms=len(crystal))\n",
    "\n",
    "    crystal.info['chemical_shifts_iso'] = chemical_shifts_iso\n",
    "    crystal.info['chemical_shifts_tensors'] = chemical_shifts_tensors\n",
    "\n",
    "    write(calc_dir+\"/crystal.xyz\", crystal, format='extxyz')\n",
    "\n",
    "    scf_times.append(scf_time)\n",
    "    gipaw_times.append(gipaw_time)\n",
    "\n",
    "\n",
    "# print(\"SCF time: \", scf_time)\n",
    "# print(\"GIPAW time: \", gipaw_time)\n",
    "\n",
    "import matplotlib.pyplot as plt\n",
    "import numpy as np\n",
    "\n",
    "x = np.arange(1, len(scf_times)+1, 1, dtype=int)\n",
    "plt.plot(x, scf_times, label='SCF time')\n",
    "plt.plot(x, gipaw_times, label='GIPAW time')\n",
    "plt.xticks(x)\n",
    "plt.xlabel('Num. of MPI processes')\n",
    "plt.ylabel('Time, s.')\n",
    "plt.legend()\n",
    "plt.show()"
   ]
  },
  {
   "cell_type": "code",
   "execution_count": null,
   "metadata": {},
   "outputs": [],
   "source": []
  },
  {
   "cell_type": "code",
   "execution_count": null,
   "metadata": {},
   "outputs": [],
   "source": [
    "import matplotlib.pyplot as plt\n",
    "import numpy as np\n",
    "\n",
    "x = np.arange(1, len(scf_times)+1, 1, dtype=int)\n",
    "plt.plot(x, scf_times_5, label='SCF time')\n",
    "plt.plot(x, gipaw_times_5, label='GIPAW time')\n",
    "plt.xticks(x)\n",
    "plt.xlabel('Num. of MPI processes')\n",
    "plt.ylabel('Time, s.')\n",
    "plt.legend()\n",
    "plt.show()"
   ]
  },
  {
   "cell_type": "code",
   "execution_count": null,
   "metadata": {},
   "outputs": [],
   "source": [
    "x"
   ]
  },
  {
   "cell_type": "code",
   "execution_count": null,
   "metadata": {},
   "outputs": [],
   "source": [
    "print(start_time, scf_time, gipaw_time-start_time)"
   ]
  },
  {
   "cell_type": "code",
   "execution_count": null,
   "metadata": {},
   "outputs": [],
   "source": [
    "struct = read(calc_dir+\"/crystal.xyz\", format=\"extxyz\")\n",
    "print( struct.get_potential_energy() )\n",
    "print( struct.get_forces() )\n",
    "print( struct.info['chemical_shifts_iso'])\n",
    "print( struct.info['chemical_shifts_tensors'])"
   ]
  },
  {
   "cell_type": "code",
   "execution_count": null,
   "metadata": {},
   "outputs": [],
   "source": [
    "import psutil\n",
    " \n",
    "# Getting % usage of virtual_memory ( 3rd field)\n",
    "print('RAM memory % used:', psutil.virtual_memory()[2])\n",
    "# Getting usage of virtual_memory in GB ( 4th field)\n",
    "print('RAM Used (GB):', psutil.virtual_memory()[3]/1000000000)"
   ]
  },
  {
   "cell_type": "code",
   "execution_count": null,
   "metadata": {},
   "outputs": [],
   "source": [
    "os.chdir(head_dir)\n",
    "crystal=read(\"test/MIN-167-350K-CuCbPyz.cif\")\n",
    "\n",
    "view(tms)\n"
   ]
  },
  {
   "cell_type": "code",
   "execution_count": null,
   "metadata": {},
   "outputs": [],
   "source": [
    "print( crystal.get_cell() )\n",
    "print( crystal.get_pbc() )"
   ]
  },
  {
   "attachments": {},
   "cell_type": "markdown",
   "metadata": {},
   "source": [
    "crystal=read(\"test/MIN-167-350K-CuCbPyz.cif\")\n",
    "crystal.get_forces()"
   ]
  },
  {
   "cell_type": "code",
   "execution_count": null,
   "metadata": {},
   "outputs": [],
   "source": [
    "view(crystal)"
   ]
  }
 ],
 "metadata": {
  "kernelspec": {
   "display_name": "qe",
   "language": "python",
   "name": "python3"
  },
  "language_info": {
   "codemirror_mode": {
    "name": "ipython",
    "version": 3
   },
   "file_extension": ".py",
   "mimetype": "text/x-python",
   "name": "python",
   "nbconvert_exporter": "python",
   "pygments_lexer": "ipython3",
   "version": "3.11.0"
  },
  "vscode": {
   "interpreter": {
    "hash": "7f9e1f951630cf78a0c5af59591778ad619c9c0abe78311d4904a75096bb096e"
   }
  }
 },
 "nbformat": 4,
 "nbformat_minor": 2
}
