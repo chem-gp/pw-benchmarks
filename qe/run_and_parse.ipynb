{
 "cells": [
  {
   "cell_type": "code",
   "execution_count": null,
   "metadata": {},
   "outputs": [],
   "source": [
    "%load_ext autoreload\n",
    "%autoreload 2"
   ]
  },
  {
   "attachments": {},
   "cell_type": "markdown",
   "metadata": {},
   "source": [
    "https://wiki.fysik.dtu.dk/ase/ase/calculators/espresso.html\n",
    "\n",
    "https://github.com/Yavar-Azar/Courses/tree/main/QE/ASE-QE"
   ]
  },
  {
   "cell_type": "code",
   "execution_count": null,
   "metadata": {},
   "outputs": [],
   "source": [
    "from ase.io import read, write\n",
    "from ase.calculators.espresso import Espresso"
   ]
  },
  {
   "cell_type": "code",
   "execution_count": null,
   "metadata": {},
   "outputs": [],
   "source": [
    "crystal=read(\"test/MIN-167-350K-CuCbPyz.cif\")"
   ]
  },
  {
   "cell_type": "code",
   "execution_count": null,
   "metadata": {},
   "outputs": [],
   "source": [
    "from ase.visualize import view\n",
    "\n",
    "view(crystal)"
   ]
  },
  {
   "cell_type": "code",
   "execution_count": null,
   "metadata": {},
   "outputs": [],
   "source": [
    "# inp_data={'prefix':\"myprefix\",'electron_maxstep':200,'outdir':\"./\",        'pseudo_dir':\"./\",'tstress':True,'tprnfor':True,'calculation':'scf', \n",
    "#  'ecutrho':240,'verbosity':'high','ecutwfc':30, 'diagonalization': 'david', 'occupations':'smearing','smearing':'mp', 'mixing_mode':'plain', 'mixing_beta':0.7,'degauss':0.001, 'nspin':1}\n",
    "\n",
    "# pseudodict={\"Na\":\"\", \"As\":\"As.pbe-n-rrkjus_psl.1.0.0.UPF\"}"
   ]
  },
  {
   "cell_type": "code",
   "execution_count": null,
   "metadata": {},
   "outputs": [],
   "source": [
    "import os\n",
    "os.chdir('../..')\n",
    "path = os.getcwd()\n",
    "print(path)\n"
   ]
  },
  {
   "cell_type": "code",
   "execution_count": null,
   "metadata": {},
   "outputs": [],
   "source": [
    "head_dir = os.path.abspath(\"\")\n",
    "print(head_dir)"
   ]
  },
  {
   "cell_type": "code",
   "execution_count": null,
   "metadata": {},
   "outputs": [],
   "source": [
    "# !export ASE_ESPRESSO_COMMAND=\"mpirun -np 10 pw.x -in PREFIX.pwi > PREFIX.pwo\"; \n",
    "# !echo $ASE_ESPRESSO_COMMAND"
   ]
  },
  {
   "cell_type": "code",
   "execution_count": null,
   "metadata": {},
   "outputs": [],
   "source": [
    "!pkill -9 -f pw.x"
   ]
  },
  {
   "cell_type": "code",
   "execution_count": null,
   "metadata": {},
   "outputs": [],
   "source": [
    "from ase import units"
   ]
  },
  {
   "cell_type": "code",
   "execution_count": null,
   "metadata": {},
   "outputs": [],
   "source": [
    "%%time\n",
    "\n",
    "from ase.io import read, write\n",
    "\n",
    "from ase.build import bulk\n",
    "from ase.calculators.espresso import Espresso\n",
    "from ase.constraints import UnitCellFilter\n",
    "from ase.optimize import LBFGS\n",
    "\n",
    "import os\n",
    "from datetime import datetime\n",
    "# os.makedirs('test', exist_ok=True)\n",
    "# os.chdir('test')\n",
    "\n",
    "os.chdir(head_dir)\n",
    "# crystal=read(\"test/MIN-167-350K-CuCbPyz.cif\")\n",
    "tms = read(\"test/tms.xyz\")\n",
    "\n",
    "crystal = tms\n",
    "a = 20.0\n",
    "crystal.set_cell([a, a, a])\n",
    "crystal.set_cell([(a, 0, 0), (0, a, 0), (0, 0, a)])\n",
    "\n",
    "dir_name = f'{datetime.now().strftime(\"%Y-%m-%d_%I %M-%S_%p\")}'\n",
    "dir_name = 'test/' + dir_name\n",
    "os.makedirs(dir_name, exist_ok=False)\n",
    "os.chdir(dir_name)\n",
    "\n",
    "\n",
    "pseudo_dir = '../../Pseudopotentials'\n",
    "\n",
    "\n",
    "\n",
    "# crystal = bulk('NaCl', crystalstructure='rocksalt', a=6.0)\n",
    "\n",
    "\n",
    "# calc = Espresso(pseudopotentials=pseudopotentials, pseudo_dir = pseudo_dir,\n",
    "#                 tstress=True, tprnfor=True, ecutwfc=10, kpts=(3, 3, 3))\n",
    "# crystal.calc=Espresso(pseudopotentials=pseudodict,input_data=inp_data, kpts=(1,1,1))\n",
    "\n",
    "calc = Espresso(pseudopotentials=pseudopotentials, pseudo_dir = pseudo_dir,\n",
    "outdir = './outdir',  prefix = 'crystal', restart_mode = 'from_scratch',\n",
    "                tstress=True, tprnfor=True, nosym=True, \n",
    "                ecutwfc=50, kpts=(1, 1, 1), \n",
    "                ecutrho = 500,\n",
    "                occupations = 'smearing', smearing = 'gauss', degauss = 1.0e-2\n",
    "                )\n",
    "\n",
    "# write(\"input.pwi\", crystal, pseudopotentials=pseudodict, input_data=inp_data, kpts=(1,1,1))\n",
    "\n",
    "crystal.calc = calc\n",
    "\n",
    "# ucf = UnitCellFilter(rocksalt)\n",
    "# opt = LBFGS(ucf)\n",
    "# opt.run(fmax=0.005)\n",
    "\n",
    "# # cubic lattic constant\n",
    "# print((8*rocksalt.get_volume()/len(rocksalt))**(1.0/3.0))\n",
    "\n",
    "print(crystal.get_potential_energy())\n",
    "# print(rocksalt.get_forces())\n"
   ]
  },
  {
   "cell_type": "code",
   "execution_count": null,
   "metadata": {},
   "outputs": [],
   "source": [
    "from runner import pw_runner\n",
    "\n",
    "from ase.io import read, write"
   ]
  },
  {
   "cell_type": "code",
   "execution_count": null,
   "metadata": {},
   "outputs": [],
   "source": [
    "tms = read(\"test/tms.xyz\")\n",
    "a = 20.0\n",
    "crystal = tms\n",
    "crystal.set_cell([a, a, a])\n",
    "crystal.set_cell([(a, 0, 0), (0, a, 0), (0, 0, a)])\n",
    "\n",
    "calc_dir = pw_runner.make_calc_dir()\n",
    "pw_runner.run_pw_scf(calc_dir, crystal, num_proc_pw=1)\n",
    "\n",
    "print(calc_dir)"
   ]
  },
  {
   "cell_type": "code",
   "execution_count": null,
   "metadata": {},
   "outputs": [],
   "source": [
    "pw_runner.run_gipaw(calc_dir, num_proc_gipaw=1)"
   ]
  },
  {
   "cell_type": "code",
   "execution_count": null,
   "metadata": {},
   "outputs": [],
   "source": [
    "read(\"espresso_gipaw.pwo\", format=\"espresso-out\")"
   ]
  },
  {
   "cell_type": "code",
   "execution_count": null,
   "metadata": {},
   "outputs": [],
   "source": [
    "lines = \"\"\"\n",
    "     f-sum rule (1st term):\n",
    "           -31.4288         -0.0003         -0.0011\n",
    "            -0.0004        -31.4324          0.0004\n",
    "            -0.0013          0.0004        -31.4335\n",
    "\n",
    "     f-sum rule (2nd term):\n",
    "             0.0000          0.0000          0.0000\n",
    "             0.0000          0.0000          0.0000\n",
    "             0.0000          0.0000          0.0000\n",
    "\n",
    "     f-sum rule (should be   -32.0000):\n",
    "           -31.4288         -0.0003         -0.0011\n",
    "            -0.0004        -31.4324          0.0004\n",
    "            -0.0013          0.0004        -31.4335\n",
    "\n",
    "     chi_bare pGv (HH) in paratec units:\n",
    "        12.267088      0.019349      0.011588\n",
    "         0.019529     12.185418     -0.001023\n",
    "         0.011661     -0.002332     12.193622\n",
    "\n",
    "        12.267088      0.019349      0.011588\n",
    "         0.019529     12.185418     -0.001023\n",
    "         0.011661     -0.002332     12.193622\n",
    "\n",
    "     chi_bare vGv (VV) in paratec units:\n",
    "         8.268179      0.020617      0.013567\n",
    "         0.018959      8.166951     -0.003551\n",
    "         0.012138     -0.004334      8.174174\n",
    "\n",
    "         8.268179      0.020617      0.013567\n",
    "         0.018959      8.166951     -0.003551\n",
    "         0.012138     -0.004334      8.174174\n",
    "\n",
    "     Atom  1  Si  pos: (  0.000005 -0.000005  0.000005)  Total sigma:         320.02\n",
    "           320.0429          0.0166         -0.0018\n",
    "            -0.1347        320.0497          0.1292\n",
    "            -0.1303          0.0377        319.9605\n",
    "\n",
    "     Si   1    anisotropy:      0.22    eta:    0.0000\n",
    "     Si   1    sigma_11=    319.99    axis=(  0.769763  0.633927  0.074844)\n",
    "     Si   1    sigma_22=    319.90    axis=(  0.246827 -0.403726  0.880955)\n",
    "     Si   1    sigma_33=    320.16    axis=( -0.588677  0.659653  0.467244)\n",
    "\n",
    "     Atom  2  C   pos: ( -0.046155 -0.008570 -0.081165)  Total sigma:         243.30\n",
    "           242.7726          0.2535          2.4323\n",
    "             0.2620        241.4559          0.4275\n",
    "             2.4117          0.4315        245.6826\n",
    "\n",
    "     C    2    anisotropy:      5.69    eta:   -0.0072\n",
    "     C    2    sigma_11=    241.42    axis=( -0.463970 -0.815557  0.345830)\n",
    "     C    2    sigma_22=    241.39    axis=(  0.737523 -0.571883 -0.359178)\n",
    "     C    2    sigma_33=    247.10    axis=(  0.490705  0.088410  0.866829)\n",
    "\n",
    "     Atom  3  C   pos: (  0.044415  0.082550  0.002135)  Total sigma:         243.31\n",
    "           242.6750          2.3709          0.0354\n",
    "             2.3434        245.8207          0.1084\n",
    "             0.0490          0.1023        241.4240\n",
    "\n",
    "     C    3    anisotropy:      5.67    eta:   -0.0069\n",
    "     C    3    sigma_11=    241.43    axis=( -0.531272  0.265975  0.804368)\n",
    "     C    3    sigma_22=    241.40    axis=( -0.703848  0.389875 -0.593798)\n",
    "     C    3    sigma_33=    247.08    axis=( -0.471538 -0.881620 -0.019924)\n",
    "\n",
    "     Atom  4  C   pos: (  0.062595 -0.069370  0.007840)  Total sigma:         243.30\n",
    "           243.9723         -2.8097          0.3216\n",
    "            -2.7997        244.5278         -0.3306\n",
    "             0.2941         -0.3309        241.4098\n",
    "\n",
    "     C    4    anisotropy:      5.70    eta:   -0.0155\n",
    "     C    4    sigma_11=    241.43    axis=( -0.731541 -0.673885 -0.103571)\n",
    "     C    4    sigma_22=    241.37    axis=( -0.129813 -0.011462  0.991472)\n",
    "     C    4    sigma_33=    247.10    axis=(  0.669325 -0.738748  0.079094)\n",
    "\n",
    "     Atom  5  C   pos: ( -0.060860 -0.004610  0.071180)  Total sigma:         243.29\n",
    "           243.8215          0.1933         -2.8092\n",
    "             0.1567        241.3663         -0.1934\n",
    "            -2.7924         -0.1987        244.6859\n",
    "\"\"\"\n",
    "\n",
    "\n",
    "# TODO: adopt cclig parser: https://github.com/cclib/cclib/blob/master/cclib/parser/orcaparser.py#L1329"
   ]
  },
  {
   "cell_type": "code",
   "execution_count": null,
   "metadata": {},
   "outputs": [],
   "source": [
    "calc_dir"
   ]
  },
  {
   "cell_type": "code",
   "execution_count": null,
   "metadata": {},
   "outputs": [],
   "source": [
    "import psutil\n",
    " \n",
    "# Getting % usage of virtual_memory ( 3rd field)\n",
    "print('RAM memory % used:', psutil.virtual_memory()[2])\n",
    "# Getting usage of virtual_memory in GB ( 4th field)\n",
    "print('RAM Used (GB):', psutil.virtual_memory()[3]/1000000000)"
   ]
  },
  {
   "cell_type": "code",
   "execution_count": null,
   "metadata": {},
   "outputs": [],
   "source": [
    "os.chdir(head_dir)\n",
    "crystal=read(\"test/MIN-167-350K-CuCbPyz.cif\")\n",
    "\n",
    "view(tms)\n"
   ]
  },
  {
   "cell_type": "code",
   "execution_count": null,
   "metadata": {},
   "outputs": [],
   "source": [
    "print( crystal.get_cell() )\n",
    "print( crystal.get_pbc() )"
   ]
  },
  {
   "attachments": {},
   "cell_type": "markdown",
   "metadata": {},
   "source": [
    "crystal=read(\"test/MIN-167-350K-CuCbPyz.cif\")\n",
    "crystal.get_forces()"
   ]
  },
  {
   "cell_type": "code",
   "execution_count": null,
   "metadata": {},
   "outputs": [],
   "source": [
    "view(crystal)"
   ]
  }
 ],
 "metadata": {
  "kernelspec": {
   "display_name": "qe",
   "language": "python",
   "name": "python3"
  },
  "language_info": {
   "codemirror_mode": {
    "name": "ipython",
    "version": 3
   },
   "file_extension": ".py",
   "mimetype": "text/x-python",
   "name": "python",
   "nbconvert_exporter": "python",
   "pygments_lexer": "ipython3",
   "version": "3.11.0"
  },
  "vscode": {
   "interpreter": {
    "hash": "7f9e1f951630cf78a0c5af59591778ad619c9c0abe78311d4904a75096bb096e"
   }
  }
 },
 "nbformat": 4,
 "nbformat_minor": 2
}
