{
 "cells": [
  {
   "attachments": {},
   "cell_type": "markdown",
   "metadata": {},
   "source": [
    "To stop processes\n",
    "```bash\n",
    "pkill -9 -f pw.x\n",
    "pkill -9 -f gipaw.x\n",
    "\n",
    "```"
   ]
  },
  {
   "cell_type": "code",
   "execution_count": null,
   "metadata": {},
   "outputs": [],
   "source": [
    "import f90nml\n",
    "nml = f90nml.write('sample.nml')\n",
    "\n"
   ]
  },
  {
   "cell_type": "code",
   "execution_count": null,
   "metadata": {},
   "outputs": [],
   "source": [
    "crystal=read(\"test/MIN-167-350K-CuCbPyz.cif\")"
   ]
  },
  {
   "cell_type": "code",
   "execution_count": null,
   "metadata": {},
   "outputs": [],
   "source": [
    "from ase.visualize import view\n",
    "view(crystal)"
   ]
  },
  {
   "cell_type": "code",
   "execution_count": null,
   "metadata": {},
   "outputs": [],
   "source": [
    "import os\n",
    "\n",
    "print(os.getcwd())"
   ]
  },
  {
   "cell_type": "code",
   "execution_count": null,
   "metadata": {},
   "outputs": [],
   "source": []
  },
  {
   "cell_type": "code",
   "execution_count": null,
   "metadata": {},
   "outputs": [],
   "source": [
    "from ase.io import read, write\n",
    "from ase.visualize import view\n",
    "crystal=read(\"../structures/KTU-183_2_auto.cif\")\n",
    "view(crystal)"
   ]
  },
  {
   "cell_type": "code",
   "execution_count": null,
   "metadata": {},
   "outputs": [],
   "source": [
    "len(crystal)"
   ]
  },
  {
   "attachments": {},
   "cell_type": "markdown",
   "metadata": {},
   "source": [
    "# Main calculation"
   ]
  },
  {
   "cell_type": "code",
   "execution_count": null,
   "metadata": {},
   "outputs": [],
   "source": [
    "%%time\n",
    "%load_ext autoreload\n",
    "%autoreload 2\n",
    "\n",
    "from runner import pw_runner\n",
    "from ase.io import read, write\n",
    "\n",
    "import time\n",
    "\n",
    "import os\n",
    "\n",
    "# Defining parameters:\n",
    "\n",
    "np_pw = 13\n",
    "np_gipaw = 13\n",
    "\n",
    "pw_params = {\n",
    "    'prefix':'crystal', \n",
    "    'restart_mode' : 'from_scratch',\n",
    "    'tstress':True, \n",
    "    'tprnfor':True, \n",
    "    'nosym':True, \n",
    "    'ecutwfc':10, \n",
    "    'kpts':(1, 1, 1),\n",
    "    # 'kpts':None, \n",
    "    'ecutrho' : 100,\n",
    "    # 'occupations' : 'smearing', \n",
    "    # 'smearing' : 'gauss', \n",
    "    # 'degauss' : 1.0e-2\n",
    "}\n",
    "\n",
    "# Loading structures:\n",
    "\n",
    "# crystal=read(\"../structures/MIN-167-350K-CuCbPyz.cif\")\n",
    "# crystal=read(\"../structures/HIK-143 293K-activated.cif\")\n",
    "# crystal=read(\"../structures/HIK-143 MeOH.cif\")\n",
    "crystal=read(\"../structures/KTU-183_2_auto.cif\")\n",
    "\n",
    "tms = read(\"../structures/tms.xyz\")\n",
    "# crystal = tms\n",
    "a = 10.0\n",
    "tms.set_cell([a, a, a])\n",
    "tms.set_cell([(a, 0, 0), (0, a, 0), (0, 0, a)])\n",
    "tms.set_pbc(True)\n",
    "\n",
    "# Creating directory to store all the data:\n",
    "calc_dir = pw_runner.make_calc_dir()\n",
    "\n",
    "\n",
    "print(\"Starting QE/SCF calculation for TMS...\")\n",
    "pw_runner.run_pw_scf(calc_dir, tms, num_proc_pw=np_pw, pw_params=pw_params)\n",
    "print(\"Starting gipaw calculation for TMS...\")\n",
    "gipaw_out = pw_runner.run_gipaw(calc_dir, \"espresso_gipaw_tms.pwo\", num_proc_gipaw=np_gipaw)\n",
    "chemical_shifts_iso, chemical_shifts_tensors = pw_runner.parse_gipaw_output(calc_dir + '/espresso_gipaw_tms.pwo', num_atoms=len(tms))\n",
    "tms.info['chemical_shifts_iso'] = chemical_shifts_iso\n",
    "tms.info['chemical_shifts_tensors'] = chemical_shifts_tensors\n",
    "write(calc_dir+\"/tms.xyz\", tms, format='extxyz')\n",
    "os.rename(calc_dir+\"/espresso.pwo\", calc_dir+\"/espresso_tms.pwo\")\n",
    "\n",
    "print(\"Starting QE/SCF calculation for crystal...\")\n",
    "pw_runner.run_pw_scf(calc_dir, crystal, num_proc_pw=np_pw, pw_params=pw_params)\n",
    "print(\"Starting gipaw calculation for crystal...\")\n",
    "gipaw_out = pw_runner.run_gipaw(calc_dir, \"espresso_gipaw.pwo\", num_proc_gipaw=np_gipaw)\n",
    "chemical_shifts_iso, chemical_shifts_tensors = pw_runner.parse_gipaw_output(calc_dir + '/espresso_gipaw.pwo', num_atoms=len(crystal))\n",
    "crystal.info['chemical_shifts_iso'] = chemical_shifts_iso\n",
    "crystal.info['chemical_shifts_tensors'] = chemical_shifts_tensors\n",
    "write(calc_dir+\"/crystal.xyz\", crystal, format='extxyz')"
   ]
  },
  {
   "cell_type": "code",
   "execution_count": null,
   "metadata": {},
   "outputs": [],
   "source": [
    "from runner.plot import plot_chemical_shifts\n",
    "\n",
    "path = \"/media/dlb/la_cie1/repos/pw-benchmarks/qe/test/2023-01-10_17 40-57_007593\"\n",
    "crystal = read(path+\"/crystal.xyz\", format=\"extxyz\")\n",
    "\n",
    "plot_chemical_shifts(crystal)"
   ]
  },
  {
   "cell_type": "code",
   "execution_count": null,
   "metadata": {},
   "outputs": [],
   "source": [
    "import matplotlib.pyplot as plt\n",
    "import numpy as np\n",
    "\n",
    "x = np.arange(1, len(scf_times)+1, 1, dtype=int)\n",
    "plt.plot(x, scf_times_5, label='SCF time')\n",
    "plt.plot(x, gipaw_times_5, label='GIPAW time')\n",
    "plt.xticks(x)\n",
    "plt.xlabel('Num. of MPI processes')\n",
    "plt.ylabel('Time, s.')\n",
    "plt.legend()\n",
    "plt.show()"
   ]
  },
  {
   "cell_type": "code",
   "execution_count": null,
   "metadata": {},
   "outputs": [],
   "source": [
    "x"
   ]
  },
  {
   "cell_type": "code",
   "execution_count": null,
   "metadata": {},
   "outputs": [],
   "source": [
    "print(start_time, scf_time, gipaw_time-start_time)"
   ]
  },
  {
   "cell_type": "code",
   "execution_count": null,
   "metadata": {},
   "outputs": [],
   "source": [
    "struct = read(calc_dir+\"/crystal.xyz\", format=\"extxyz\")\n",
    "print( struct.get_potential_energy() )\n",
    "print( struct.get_forces() )\n",
    "print( struct.info['chemical_shifts_iso'])\n",
    "print( struct.info['chemical_shifts_tensors'])"
   ]
  },
  {
   "cell_type": "code",
   "execution_count": null,
   "metadata": {},
   "outputs": [],
   "source": [
    "import psutil\n",
    " \n",
    "# Getting % usage of virtual_memory ( 3rd field)\n",
    "print('RAM memory % used:', psutil.virtual_memory()[2])\n",
    "# Getting usage of virtual_memory in GB ( 4th field)\n",
    "print('RAM Used (GB):', psutil.virtual_memory()[3]/1000000000)"
   ]
  },
  {
   "cell_type": "code",
   "execution_count": null,
   "metadata": {},
   "outputs": [],
   "source": [
    "os.chdir(head_dir)\n",
    "crystal=read(\"test/MIN-167-350K-CuCbPyz.cif\")\n",
    "\n",
    "view(tms)\n"
   ]
  },
  {
   "cell_type": "code",
   "execution_count": null,
   "metadata": {},
   "outputs": [],
   "source": [
    "print( crystal.get_cell() )\n",
    "print( crystal.get_pbc() )"
   ]
  },
  {
   "attachments": {},
   "cell_type": "markdown",
   "metadata": {},
   "source": [
    "crystal=read(\"test/MIN-167-350K-CuCbPyz.cif\")\n",
    "crystal.get_forces()"
   ]
  },
  {
   "cell_type": "code",
   "execution_count": null,
   "metadata": {},
   "outputs": [],
   "source": [
    "view(crystal)"
   ]
  },
  {
   "cell_type": "code",
   "execution_count": null,
   "metadata": {},
   "outputs": [],
   "source": []
  },
  {
   "attachments": {},
   "cell_type": "markdown",
   "metadata": {},
   "source": [
    "# DFTB+"
   ]
  },
  {
   "cell_type": "code",
   "execution_count": null,
   "metadata": {},
   "outputs": [],
   "source": [
    "# https://wiki.fysik.dtu.dk/ase/ase/calculators/dftb.html\n",
    "# https://dftb.org/parameters/download\n",
    "\n",
    "# export ASE_DFTB_COMMAND=\"/path/to/dftb+ > PREFIX.out\"\n",
    "# export DFTB_PREFIX=/path/to/mio-0-1/\n",
    "import os\n",
    "\n",
    "os.environ[\"ASE_DFTB_COMMAND\"] = \"/home/dlb/anaconda3/envs/qe/bin/dftb+\"\n",
    "# os.environ[\"DFTB_PREFIX\"] = \"/home/dlb/Downloads/pbc-0-3\"\n",
    "os.environ[\"DFTB_PREFIX\"] = \"/home/dlb/Downloads/auorgap-1-1\" # doesn't work for now with crystal...\n"
   ]
  },
  {
   "cell_type": "code",
   "execution_count": null,
   "metadata": {},
   "outputs": [],
   "source": [
    "from ase.calculators.dftb import Dftb\n",
    "from ase.io import write, read\n",
    "from ase.build import molecule\n",
    "from ase.optimize import QuasiNewton\n",
    "\n",
    "# atoms = molecule('H2O')\n",
    "# crystal=read(\"../structures/KTU-183_2_auto.cif\")\n",
    "crystal=read(\"../structures/HIK-143 293K-activated.cif\")\n",
    "# crystal=read(\"../structures/MIN-167-350K-CuCbPyz.cif\")\n",
    "atoms = crystal\n",
    "\n",
    "calc = Dftb(atoms=atoms,\n",
    "            label='crystal',\n",
    "            # Hamiltonian_ = \"xTB\",\n",
    "            # Hamiltonian_Method = \"GFN1-xTB\",\n",
    "            Hamiltonian_MaxAngularMomentum_='',\n",
    "            # Hamiltonian_MaxAngularMomentum_O='p',\n",
    "            # Hamiltonian_MaxAngularMomentum_H='s',\n",
    "            # Hamiltonian_MaxAngularMomentum_N='s',\n",
    "            # Hamiltonian_MaxAngularMomentum_C='s',\n",
    "            # Hamiltonian_MaxAngularMomentum_Si='s',\n",
    "            kpts=(1,1,1),\n",
    "            Hamiltonian_SCC='Yes',\n",
    "            # Verbosity=0,\n",
    "            # Hamiltonian_OrbitalResolvedSCC = 'Yes',\n",
    "            # Hamiltonian_SCCTolerance=1e-15,\n",
    "            # kpts=None\n",
    "            # Driver_='ConjugateGradient',\n",
    "            # Driver_MaxForceComponent=1e-3,\n",
    "            # Driver_MaxSteps=200,\n",
    "            # Driver_LatticeOpt = 'Yes',\n",
    "            # Driver_AppendGeometries = 'Yes'\n",
    "            )\n",
    "atoms.calc = calc\n",
    "\n",
    "atoms.set_pbc(True)\n",
    "\n",
    "print(atoms.get_potential_energy())\n",
    "\n",
    "# calc.calculate(atoms)\n",
    "# The 'geo_end.gen' file written by the ASE calculator\n",
    "# (containing the initial geometry), has been overwritten\n",
    "# by DFTB+ and now contains the final, optimized geometry.\n",
    "# final = read('geo_end.gen')\n",
    "# write('final.xyz', final)\n",
    "\n",
    "\n",
    "# dyn = QuasiNewton(atoms, trajectory='test.traj')\n",
    "# dyn.run(fmax=0.01)\n",
    "# write('final.xyz', atoms)"
   ]
  },
  {
   "cell_type": "code",
   "execution_count": null,
   "metadata": {},
   "outputs": [],
   "source": [
    "from ase import Atom, Atoms\n",
    "from ase.build import bulk\n",
    "from ase.calculators.lammpsrun import LAMMPS\n",
    "\n",
    "parameters = {'pair_style': 'eam/alloy',\n",
    "              'pair_coeff': ['* * NiAlH_jea.eam.alloy H Ni']}\n",
    "\n",
    "files = ['NiAlH_jea.eam.alloy']\n",
    "\n",
    "Ni = bulk('Ni', cubic=True)\n",
    "H = Atom('H', position=Ni.cell.diagonal()/2)\n",
    "NiH = Ni + H\n",
    "\n",
    "lammps = LAMMPS(parameters=parameters, files=files)\n",
    "\n",
    "NiH.calc = lammps\n",
    "print(\"Energy \", NiH.get_potential_energy())"
   ]
  },
  {
   "cell_type": "code",
   "execution_count": null,
   "metadata": {},
   "outputs": [],
   "source": [
    "! export ASE_CP2K_COMMAND=\"mpirun -n 2 cp2k_shell.popt\"\n",
    "\n",
    "from ase.calculators.cp2k import CP2K\n",
    "from ase.build import molecule\n",
    "calc = CP2K()\n",
    "atoms = molecule('H2O', calculator=calc)\n",
    "atoms.center(vacuum=2.0)\n",
    "print(atoms.get_potential_energy())"
   ]
  },
  {
   "cell_type": "code",
   "execution_count": null,
   "metadata": {},
   "outputs": [],
   "source": [
    "atoms.get_cell()"
   ]
  },
  {
   "cell_type": "code",
   "execution_count": null,
   "metadata": {},
   "outputs": [],
   "source": [
    "traj = read('geo_end.xyz', index=\":\")\n",
    "view(traj)"
   ]
  },
  {
   "cell_type": "code",
   "execution_count": null,
   "metadata": {},
   "outputs": [],
   "source": [
    "%%time\n",
    "\n",
    "# print(atoms.get_potential_energy())\n",
    "print(atoms.get_forces())"
   ]
  },
  {
   "cell_type": "code",
   "execution_count": null,
   "metadata": {},
   "outputs": [],
   "source": [
    "crystal.get_potential_energy()"
   ]
  },
  {
   "cell_type": "code",
   "execution_count": null,
   "metadata": {},
   "outputs": [],
   "source": [
    "# crystal=read(\"../structures/HIK-143 MeOH.cif\")\n",
    "crystal=read(\"../structures/HIK-143 293K-activated.cif\")"
   ]
  },
  {
   "cell_type": "code",
   "execution_count": null,
   "metadata": {},
   "outputs": [],
   "source": [
    "atoms.get_pbc()"
   ]
  },
  {
   "cell_type": "code",
   "execution_count": null,
   "metadata": {},
   "outputs": [],
   "source": [
    "from ase.visualize import view\n",
    "view(crystal)"
   ]
  }
 ],
 "metadata": {
  "kernelspec": {
   "display_name": "qe",
   "language": "python",
   "name": "python3"
  },
  "language_info": {
   "codemirror_mode": {
    "name": "ipython",
    "version": 3
   },
   "file_extension": ".py",
   "mimetype": "text/x-python",
   "name": "python",
   "nbconvert_exporter": "python",
   "pygments_lexer": "ipython3",
   "version": "3.11.0"
  },
  "vscode": {
   "interpreter": {
    "hash": "7f9e1f951630cf78a0c5af59591778ad619c9c0abe78311d4904a75096bb096e"
   }
  }
 },
 "nbformat": 4,
 "nbformat_minor": 2
}
