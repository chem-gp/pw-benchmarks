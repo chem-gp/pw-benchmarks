{
 "cells": [
  {
   "attachments": {},
   "cell_type": "markdown",
   "metadata": {},
   "source": [
    "To stop processes\n",
    "```bash\n",
    "pkill -9 -f pw.x\n",
    "pkill -9 -f gipaw.x\n",
    "\n",
    "```"
   ]
  },
  {
   "cell_type": "code",
   "execution_count": null,
   "metadata": {},
   "outputs": [],
   "source": [
    "import f90nml\n",
    "nml = f90nml.write('sample.nml')\n",
    "\n"
   ]
  },
  {
   "cell_type": "code",
   "execution_count": null,
   "metadata": {},
   "outputs": [],
   "source": [
    "crystal=read(\"test/MIN-167-350K-CuCbPyz.cif\")"
   ]
  },
  {
   "cell_type": "code",
   "execution_count": null,
   "metadata": {},
   "outputs": [],
   "source": [
    "from ase.visualize import view\n",
    "view(crystal)"
   ]
  },
  {
   "cell_type": "code",
   "execution_count": null,
   "metadata": {},
   "outputs": [],
   "source": [
    "import os\n",
    "\n",
    "print(os.getcwd())"
   ]
  },
  {
   "cell_type": "code",
   "execution_count": null,
   "metadata": {},
   "outputs": [],
   "source": []
  },
  {
   "cell_type": "code",
   "execution_count": null,
   "metadata": {},
   "outputs": [],
   "source": [
    "from ase.io import read, write\n",
    "from ase.visualize import view\n",
    "# crystal=read(\"../structures/KTU-183_2_auto.cif\")\n",
    "crystal=read(\"../structures/KTU-183_2_auto_dimer.xyz\")\n",
    "view(crystal)"
   ]
  },
  {
   "cell_type": "code",
   "execution_count": null,
   "metadata": {},
   "outputs": [],
   "source": [
    "len(crystal)"
   ]
  },
  {
   "attachments": {},
   "cell_type": "markdown",
   "metadata": {},
   "source": [
    "# Main calculation"
   ]
  },
  {
   "cell_type": "code",
   "execution_count": null,
   "metadata": {},
   "outputs": [],
   "source": [
    "%%time\n",
    "%load_ext autoreload\n",
    "%autoreload 2\n",
    "\n",
    "from runner import pw_runner\n",
    "from ase.io import read, write\n",
    "\n",
    "import time\n",
    "\n",
    "import os\n",
    "\n",
    "# Defining parameters:\n",
    "\n",
    "np_pw = 13\n",
    "np_gipaw = 13\n",
    "\n",
    "pw_params = {\n",
    "    'prefix':'crystal', \n",
    "    'restart_mode' : 'from_scratch',\n",
    "    'tstress':True, \n",
    "    'tprnfor':True, \n",
    "    'nosym':True, \n",
    "    'ecutwfc':20, \n",
    "    'kpts':(1, 1, 1),\n",
    "    # 'kpts':None, \n",
    "    'ecutrho' : 200,\n",
    "    # 'occupations' : 'smearing', \n",
    "    # 'smearing' : 'gauss', \n",
    "    # 'degauss' : 1.0e-2\n",
    "}\n",
    "\n",
    "# Loading structures:\n",
    "\n",
    "# crystal=read(\"../structures/MIN-167-350K-CuCbPyz.cif\")\n",
    "# crystal=read(\"../structures/HIK-143 293K-activated.cif\")\n",
    "# crystal=read(\"../structures/HIK-143 MeOH.cif\")\n",
    "crystal=read(\"../structures/KTU-183_2_auto.cif\")\n",
    "\n",
    "tms = read(\"../structures/tms.xyz\")\n",
    "# crystal = tms\n",
    "a = 10.0\n",
    "tms.set_cell([a, a, a])\n",
    "tms.set_cell([(a, 0, 0), (0, a, 0), (0, 0, a)])\n",
    "tms.set_pbc(True)\n",
    "\n",
    "# Creating directory to store all the data:\n",
    "calc_dir = pw_runner.make_calc_dir()\n",
    "\n",
    "\n",
    "print(\"Starting QE/SCF calculation for TMS...\")\n",
    "pw_runner.run_pw_scf(calc_dir, tms, num_proc_pw=np_pw, pw_params=pw_params)\n",
    "print(\"Starting gipaw calculation for TMS...\")\n",
    "gipaw_out = pw_runner.run_gipaw(calc_dir, \"espresso_gipaw_tms.pwo\", num_proc_gipaw=np_gipaw)\n",
    "chemical_shifts_iso, chemical_shifts_tensors = pw_runner.parse_gipaw_output(calc_dir + '/espresso_gipaw_tms.pwo', num_atoms=len(tms))\n",
    "tms.info['chemical_shifts_iso'] = chemical_shifts_iso\n",
    "tms.info['chemical_shifts_tensors'] = chemical_shifts_tensors\n",
    "write(calc_dir+\"/tms.xyz\", tms, format='extxyz')\n",
    "os.rename(calc_dir+\"/espresso.pwo\", calc_dir+\"/espresso_tms.pwo\")\n",
    "\n",
    "print(\"Starting QE/SCF calculation for crystal...\")\n",
    "pw_runner.run_pw_scf(calc_dir, crystal, num_proc_pw=np_pw, pw_params=pw_params)\n",
    "print(\"Starting gipaw calculation for crystal...\")\n",
    "gipaw_out = pw_runner.run_gipaw(calc_dir, \"espresso_gipaw.pwo\", num_proc_gipaw=np_gipaw)\n",
    "chemical_shifts_iso, chemical_shifts_tensors = pw_runner.parse_gipaw_output(calc_dir + '/espresso_gipaw.pwo', num_atoms=len(crystal))\n",
    "crystal.info['chemical_shifts_iso'] = chemical_shifts_iso\n",
    "crystal.info['chemical_shifts_tensors'] = chemical_shifts_tensors\n",
    "write(calc_dir+\"/crystal.xyz\", crystal, format='extxyz')"
   ]
  },
  {
   "cell_type": "code",
   "execution_count": null,
   "metadata": {},
   "outputs": [],
   "source": [
    "from runner.plot import plot_chemical_shifts\n",
    "\n",
    "path1 = \"/media/dlb/la_cie1/repos/pw-benchmarks/qe/test/2023-01-10_17 40-57_007593\"\n",
    "path2 = \"/media/dlb/la_cie1/repos/pw-benchmarks/qe/test/2023-01-11_18 05-03_816467\"\n",
    "\n",
    "crystal1 = read(path1+\"/crystal.xyz\", format=\"extxyz\")\n",
    "crystal2 = read(path2+\"/crystal.xyz\", format=\"extxyz\")\n",
    "\n",
    "ch1= plot_chemical_shifts(crystal1, \"./test\")\n",
    "ch2 = plot_chemical_shifts(crystal2, \"./test\")\n",
    "\n",
    "print(ch1['H']-ch2['H']) \n",
    "# print(ch1['C']-ch2['C'])"
   ]
  },
  {
   "cell_type": "code",
   "execution_count": null,
   "metadata": {},
   "outputs": [],
   "source": [
    "import matplotlib.pyplot as plt\n",
    "import numpy as np\n",
    "\n",
    "x = np.arange(1, len(scf_times)+1, 1, dtype=int)\n",
    "plt.plot(x, scf_times_5, label='SCF time')\n",
    "plt.plot(x, gipaw_times_5, label='GIPAW time')\n",
    "plt.xticks(x)\n",
    "plt.xlabel('Num. of MPI processes')\n",
    "plt.ylabel('Time, s.')\n",
    "plt.legend()\n",
    "plt.show()"
   ]
  },
  {
   "cell_type": "code",
   "execution_count": null,
   "metadata": {},
   "outputs": [],
   "source": [
    "x"
   ]
  },
  {
   "cell_type": "code",
   "execution_count": null,
   "metadata": {},
   "outputs": [],
   "source": [
    "print(start_time, scf_time, gipaw_time-start_time)"
   ]
  },
  {
   "cell_type": "code",
   "execution_count": null,
   "metadata": {},
   "outputs": [],
   "source": [
    "struct = read(calc_dir+\"/crystal.xyz\", format=\"extxyz\")\n",
    "print( struct.get_potential_energy() )\n",
    "print( struct.get_forces() )\n",
    "print( struct.info['chemical_shifts_iso'])\n",
    "print( struct.info['chemical_shifts_tensors'])"
   ]
  },
  {
   "cell_type": "code",
   "execution_count": null,
   "metadata": {},
   "outputs": [],
   "source": [
    "import psutil\n",
    " \n",
    "# Getting % usage of virtual_memory ( 3rd field)\n",
    "print('RAM memory % used:', psutil.virtual_memory()[2])\n",
    "# Getting usage of virtual_memory in GB ( 4th field)\n",
    "print('RAM Used (GB):', psutil.virtual_memory()[3]/1000000000)"
   ]
  },
  {
   "cell_type": "code",
   "execution_count": null,
   "metadata": {},
   "outputs": [],
   "source": [
    "os.chdir(head_dir)\n",
    "crystal=read(\"test/MIN-167-350K-CuCbPyz.cif\")\n",
    "\n",
    "view(tms)\n"
   ]
  },
  {
   "cell_type": "code",
   "execution_count": null,
   "metadata": {},
   "outputs": [],
   "source": [
    "print( crystal.get_cell() )\n",
    "print( crystal.get_pbc() )"
   ]
  },
  {
   "attachments": {},
   "cell_type": "markdown",
   "metadata": {},
   "source": [
    "crystal=read(\"test/MIN-167-350K-CuCbPyz.cif\")\n",
    "crystal.get_forces()"
   ]
  },
  {
   "cell_type": "code",
   "execution_count": null,
   "metadata": {},
   "outputs": [],
   "source": [
    "view(crystal)"
   ]
  },
  {
   "cell_type": "code",
   "execution_count": null,
   "metadata": {},
   "outputs": [],
   "source": []
  },
  {
   "attachments": {},
   "cell_type": "markdown",
   "metadata": {},
   "source": [
    "# DFTB+"
   ]
  },
  {
   "cell_type": "code",
   "execution_count": null,
   "metadata": {},
   "outputs": [],
   "source": [
    "# !ulimit -s unlimited\n",
    "# conda env export > dftb_plumed.yml\n",
    "# https://wiki.fysik.dtu.dk/ase/ase/calculators/dftb.html\n",
    "# https://dftb.org/parameters/download\n",
    "\n",
    "# export ASE_DFTB_COMMAND=\"/path/to/dftb+ > PREFIX.out\"\n",
    "# export DFTB_PREFIX=/path/to/mio-0-1/\n",
    "import os\n",
    "\n",
    "os.environ['OMP_NUM_THREADS'] = \"5,1\"\n",
    "os.environ[\"ASE_DFTB_COMMAND\"] = \"ulimit -s unlimited; /home/dlb/anaconda3/envs/dftb_plumed/bin/dftb+\"\n",
    "os.environ[\"DFTB_PREFIX\"] = \"/home/dlb/Downloads/pbc-0-3\"\n",
    "# os.environ[\"DFTB_PREFIX\"] = \"/home/dlb/Downloads/auorgap-1-1\" # doesn't work for now with crystal...\n"
   ]
  },
  {
   "cell_type": "code",
   "execution_count": null,
   "metadata": {},
   "outputs": [],
   "source": [
    "%%time\n",
    "# from ase.calculators.dftb import Dftb\n",
    "from runner.dftb import Dftb\n",
    "from ase.io import write, read\n",
    "from ase.build import molecule\n",
    "from ase.optimize import QuasiNewton\n",
    "\n",
    "atoms = molecule('H2O')\n",
    "crystal=read(\"../structures/KTU-183_2_auto.cif\")\n",
    "# crystal=read(\"../structures/HIK-143 293K-activated.cif\")\n",
    "# crystal=read(\"../structures/MIN-167-350K-CuCbPyz.cif\")\n",
    "atoms = crystal\n",
    "atoms.set_pbc(True)\n",
    "\n",
    "# calc = Dftb(atoms=atoms,\n",
    "#             label='crystal',\n",
    "#             Hamiltonian_ = \"xTB\",\n",
    "#             Hamiltonian_Method = \"GFN1-xTB\",\n",
    "#             # Hamiltonian_MaxAngularMomentum_='',\n",
    "#             # Hamiltonian_MaxAngularMomentum_O='p',\n",
    "#             # Hamiltonian_MaxAngularMomentum_H='s',\n",
    "#             # Hamiltonian_MaxAngularMomentum_N='s',\n",
    "#             # Hamiltonian_MaxAngularMomentum_C='s',\n",
    "#             # Hamiltonian_MaxAngularMomentum_Si='s',\n",
    "#             kpts=(1,1,1),\n",
    "#         #     Hamiltonian_SCC='Yes',\n",
    "#         #     SCCTolerance = 1e-5,\n",
    "#         #     Options_='',\n",
    "#             # Verbosity=0,\n",
    "#             # Hamiltonian_OrbitalResolvedSCC = 'Yes',\n",
    "#             # Hamiltonian_SCCTolerance=1e-15,\n",
    "#             # kpts=None\n",
    "#             # Driver_='ConjugateGradient',\n",
    "#             # Driver_MaxForceComponent=1e-3,\n",
    "#             # Driver_MaxSteps=200,\n",
    "#             # Driver_LatticeOpt = 'Yes',\n",
    "#             # Driver_AppendGeometries = 'Yes'\n",
    "#             )\n",
    "\n",
    "\n",
    "calc = Dftb(atoms=atoms,\n",
    "            label='crystal',\n",
    "            # Hamiltonian_ = \"xTB\",\n",
    "            # Hamiltonian_Method = \"GFN1-xTB\",\n",
    "            # Hamiltonian_MaxAngularMomentum_='',\n",
    "            # Hamiltonian_MaxAngularMomentum_O='p',\n",
    "            # Hamiltonian_MaxAngularMomentum_H='s',\n",
    "            # Hamiltonian_MaxAngularMomentum_N='s',\n",
    "            # Hamiltonian_MaxAngularMomentum_C='s',\n",
    "            # Hamiltonian_MaxAngularMomentum_Si='s',\n",
    "            kpts=(1,1,1),\n",
    "            # Hamiltonian_SCC='Yes',\n",
    "        #     SCCTolerance = 1e-5,\n",
    "        #     Options_='',\n",
    "            # Verbosity=0,\n",
    "            # Hamiltonian_OrbitalResolvedSCC = 'Yes',\n",
    "            # Hamiltonian_SCCTolerance=1e-15,\n",
    "            # kpts=None\n",
    "            # Driver_='ConjugateGradient',\n",
    "            # Driver_MaxForceComponent=1e-3,\n",
    "            # Driver_MaxSteps=200,\n",
    "            # Driver_LatticeOpt = 'Yes',\n",
    "            # Driver_AppendGeometries = 'Yes'\n",
    "            )\n",
    "\n",
    "atoms.calc = calc\n",
    "\n",
    "print(atoms.get_forces())\n",
    "\n",
    "\n",
    "# print(atoms.get_potential_energy())\n",
    "# print(atoms.get_forces())\n",
    "\n",
    "# calc.calculate(atoms)\n",
    "# The 'geo_end.gen' file written by the ASE calculator\n",
    "# (containing the initial geometry), has been overwritten\n",
    "# by DFTB+ and now contains the final, optimized geometry.\n",
    "# final = read('geo_end.gen')\n",
    "# write('final.xyz', final)\n",
    "\n",
    "\n",
    "# dyn = QuasiNewton(atoms, trajectory='test.traj')\n",
    "# dyn.run(fmax=0.01)\n",
    "# write('final.xyz', atoms)"
   ]
  },
  {
   "cell_type": "code",
   "execution_count": null,
   "metadata": {},
   "outputs": [],
   "source": [
    "print(atoms.get_potential_energy())\n",
    "print(atoms.get_forces())"
   ]
  },
  {
   "cell_type": "code",
   "execution_count": null,
   "metadata": {},
   "outputs": [],
   "source": [
    "print(atoms.get_forces())\n"
   ]
  },
  {
   "cell_type": "code",
   "execution_count": null,
   "metadata": {},
   "outputs": [],
   "source": [
    "from ase import Atom, Atoms\n",
    "from ase.build import bulk\n",
    "from ase.calculators.lammpsrun import LAMMPS\n",
    "\n",
    "parameters = {'pair_style': 'eam/alloy',\n",
    "              'pair_coeff': ['* * NiAlH_jea.eam.alloy H Ni']}\n",
    "\n",
    "files = ['NiAlH_jea.eam.alloy']\n",
    "\n",
    "Ni = bulk('Ni', cubic=True)\n",
    "H = Atom('H', position=Ni.cell.diagonal()/2)\n",
    "NiH = Ni + H\n",
    "\n",
    "lammps = LAMMPS(parameters=parameters, files=files)\n",
    "\n",
    "NiH.calc = lammps\n",
    "print(\"Energy \", NiH.get_potential_energy())"
   ]
  },
  {
   "cell_type": "code",
   "execution_count": null,
   "metadata": {},
   "outputs": [],
   "source": []
  },
  {
   "cell_type": "code",
   "execution_count": null,
   "metadata": {},
   "outputs": [],
   "source": [
    "atoms.get_cell()"
   ]
  },
  {
   "cell_type": "code",
   "execution_count": null,
   "metadata": {},
   "outputs": [],
   "source": [
    "traj = read('geo_end.xyz', index=\":\")\n",
    "view(traj)"
   ]
  },
  {
   "cell_type": "code",
   "execution_count": null,
   "metadata": {},
   "outputs": [],
   "source": [
    "%%time\n",
    "\n",
    "# print(atoms.get_potential_energy())\n",
    "print(atoms.get_forces())"
   ]
  },
  {
   "cell_type": "code",
   "execution_count": null,
   "metadata": {},
   "outputs": [],
   "source": [
    "crystal.get_potential_energy()"
   ]
  },
  {
   "cell_type": "code",
   "execution_count": null,
   "metadata": {},
   "outputs": [],
   "source": [
    "# crystal=read(\"../structures/HIK-143 MeOH.cif\")\n",
    "crystal=read(\"../structures/HIK-143 293K-activated.cif\")"
   ]
  },
  {
   "cell_type": "code",
   "execution_count": null,
   "metadata": {},
   "outputs": [],
   "source": [
    "atoms.get_pbc()"
   ]
  },
  {
   "cell_type": "code",
   "execution_count": null,
   "metadata": {},
   "outputs": [],
   "source": [
    "from ase.visualize import view\n",
    "view(crystal)"
   ]
  },
  {
   "attachments": {},
   "cell_type": "markdown",
   "metadata": {},
   "source": [
    "# Plumed"
   ]
  },
  {
   "cell_type": "code",
   "execution_count": null,
   "metadata": {},
   "outputs": [],
   "source": [
    "# https://www.plumed.org/doc-v2.7/user-doc/html/_m_e_t_a_d.html\n",
    "# https://github.com/dftbplus/dftbplus/issues/1064\n",
    "# try with numpy 1.22　\n",
    "# https://gitlab.com/Sucerquia/ase-plumed_tutorial\n",
    "\n",
    "from ase.calculators.lj import LennardJones\n",
    "# from ase.calculators.plumed import Plumed\n",
    "from runner.plumed import Plumed\n",
    "# from plumed import Plumed\n",
    "from ase.constraints import FixedPlane\n",
    "from ase.md.langevin import Langevin\n",
    "from ase.io import read\n",
    "from ase import units\n",
    "\n",
    "# import plumed\n",
    "\n",
    "from ase.calculators.dftb import Dftb\n",
    "\n",
    "\n",
    "timestep = 0.1\n",
    "ps = 1000 * units.fs\n",
    "\n",
    "setup = [f\"UNITS LENGTH=A TIME={1/ps} ENERGY={units.mol/units.kJ}\",\n",
    "        #  \"d: DISTANCE ATOMS=1,2 \",\n",
    "        \"c1: CENTER ATOMS=47,40\",\n",
    "        \"c2: CENTER ATOMS=41,47,40,46,42,48\",\n",
    "        \"c3: CENTER ATOMS=52,62,86,171,98,74\",\n",
    "        \"c4: CENTER ATOMS=74,98\",\n",
    "         \"phi: TORSION ATOMS=c1,c2,c3,c4\",\n",
    "         \"metad: METAD ARG=phi SIGMA=2.10 HEIGHT=30.50 BIASFACTOR=5 TEMP=300.0 PACE=1\",\n",
    "         # \"ARG=d SIGMA=0.20,0.20 HEIGHT=1.20 BIASFACTOR=5 TEMP=300.0 PACE=500\",\n",
    "         # \"GRID_MIN=0,0 GRID_MAX=1.0,1.0 GRID_BIN=150,150\",\n",
    "         \"PRINT ARG=phi STRIDE=1 FILE=test/plumed/COLVAR\",\n",
    "         # \"CALC_RCT \",\n",
    "         # \"RCT_USTRIDE=10\",\n",
    "         # \"...\",\n",
    "         \"FLUSH STRIDE=1000\"]\n",
    "\n",
    "# setup = f\"\"\"\n",
    "# d: DISTANCE ATOMS=1,2 \n",
    "# metad: METAD ...\n",
    "#    ARG=d SIGMA=0.20,0.20 HEIGHT=1.20 BIASFACTOR=5 TEMP=300.0 PACE=500 \n",
    "#    GRID_MIN=0,0 GRID_MAX=1.0,1.0 GRID_BIN=150,150 \n",
    "#    CALC_RCT \n",
    "#    RCT_USTRIDE=10 \n",
    "# ...\n",
    "# PRINT ARG=d STRIDE=100 FILE=COLVAR\n",
    "# \"\"\"\n",
    "# print(setup)\n",
    "\n",
    "from ase.build import molecule\n",
    "\n",
    "\n",
    "# atoms = molecule('CH3CH2NH2')\n",
    "# atoms = read('../structures/Ar_isomer.xyz')\n",
    "# atoms = read('../structures/KTU-183_2_auto.cif')\n",
    "atoms=read(\"../structures/KTU-183_2_auto_dimer.xyz\")\n",
    "# cons = [FixedPlane(i, [0, 0, 1]) for i in range(7)]\n",
    "# atoms.set_constraint(cons)\n",
    "# atoms.set_masses([1, 1, 1, 1, 1, 1, 1])\n",
    "\n",
    "# calc_base = LennardJones(rc=2.5, r0=3.)\n",
    "\n",
    "import os\n",
    "\n",
    "os.environ[\"ASE_DFTB_COMMAND\"] = \"/home/dlb/anaconda3/envs/qe/bin/dftb+\"\n",
    "os.environ[\"DFTB_PREFIX\"] = \"/home/dlb/Downloads/pbc-0-3\"\n",
    "\n",
    "calc_base = Dftb(atoms=atoms,\n",
    "            label='crystal',\n",
    "            # Hamiltonian_ = \"xTB\",\n",
    "            # Hamiltonian_Method = \"GFN1-xTB\",\n",
    "            # Hamiltonian_MaxAngularMomentum_='',\n",
    "            # Hamiltonian_MaxAngularMomentum_O='p',\n",
    "            # Hamiltonian_MaxAngularMomentum_H='s',\n",
    "            # Hamiltonian_MaxAngularMomentum_N='s',\n",
    "            # Hamiltonian_MaxAngularMomentum_C='s',\n",
    "            # Hamiltonian_MaxAngularMomentum_Si='s',\n",
    "            kpts=(1,1,1),\n",
    "            # Hamiltonian_SCC='Yes',\n",
    "            # Verbosity=0,\n",
    "            # Hamiltonian_OrbitalResolvedSCC = 'Yes',\n",
    "            # Hamiltonian_SCCTolerance=1e-15,\n",
    "            # kpts=None\n",
    "            # Driver_='ConjugateGradient',\n",
    "            # Driver_MaxForceComponent=1e-3,\n",
    "            # Driver_MaxSteps=200,\n",
    "            # Driver_LatticeOpt = 'Yes',\n",
    "            # Driver_AppendGeometries = 'Yes'\n",
    "            )\n",
    "\n",
    "atoms.calc = Plumed(calc=calc_base,\n",
    "                    input=setup,\n",
    "                    timestep=timestep,\n",
    "                    atoms=atoms,\n",
    "                    kT=0.1,\n",
    "                    log='test/plumed/plumed_log.log')\n",
    "\n",
    "# from ase.md.verlet import VelocityVerlet\n",
    "\n",
    "# atoms.calc = calc_base\n",
    "\n",
    "# calc=LennardJones(rc=2.5, r0=3.)\n",
    "# atoms.calc = calc\n",
    "\n",
    "dyn = Langevin(atoms, timestep, temperature_K=0.1/units.kB, friction=1,\n",
    "               fixcm=False, trajectory='test/plumed/UnbiasMD.xyz')\n",
    "# We want to run MD with constant energy using the VelocityVerlet algorithm.\n",
    "# dyn = VelocityVerlet(atoms, 1 * units.fs, trajectory='test/plumed/UnbiasMD.xyz')  # 5 fs time step.\n",
    "\n",
    "dyn.run(1000)\n"
   ]
  },
  {
   "cell_type": "code",
   "execution_count": null,
   "metadata": {},
   "outputs": [],
   "source": [
    "from ase.io import read\n",
    "from ase.visualize import view\n",
    "\n",
    "traj = read('test/plumed/UnbiasMD.xyz', index=\":\")\n",
    "view(traj)"
   ]
  },
  {
   "cell_type": "code",
   "execution_count": null,
   "metadata": {},
   "outputs": [],
   "source": [
    "from ase.io import write\n",
    "write('test/plumed/traj.xyz', traj, format='xyz')"
   ]
  },
  {
   "cell_type": "markdown",
   "metadata": {},
   "source": []
  },
  {
   "cell_type": "code",
   "execution_count": null,
   "metadata": {},
   "outputs": [],
   "source": [
    "traj = read('test/plumed/traj.xyz', index=\"0:3000\")\n",
    "view(traj)"
   ]
  },
  {
   "cell_type": "code",
   "execution_count": null,
   "metadata": {},
   "outputs": [],
   "source": [
    "%%bash \n",
    "echo $A"
   ]
  },
  {
   "cell_type": "code",
   "execution_count": null,
   "metadata": {},
   "outputs": [],
   "source": [
    "%%bash\n",
    "\n",
    "export A=33\n",
    "echo $A"
   ]
  },
  {
   "cell_type": "code",
   "execution_count": null,
   "metadata": {},
   "outputs": [],
   "source": [
    "import numpy as np\n",
    "\n",
    "from ase.build import molecule\n",
    "\n",
    "import torch\n",
    "\n",
    "atoms = molecule('CH3CH2NH2')\n",
    "\n",
    "store_data = {\n",
    "        'aaa': np.random.randn(300, 300),\n",
    "        'bbb': \"hello\"\n",
    "}\n",
    "\n",
    "\n",
    "torch_data = torch.rand(2000, 3000)\n",
    "\n",
    "atoms.info['store_data'] = store_data\n",
    "\n",
    "atoms.info['torch_data'] = torch_data\n",
    "\n",
    "\n",
    "\n",
    "%store atoms"
   ]
  },
  {
   "cell_type": "code",
   "execution_count": null,
   "metadata": {},
   "outputs": [],
   "source": [
    "# $HOME/.ipython/profile_default/db/autorestore\n",
    "%store\n"
   ]
  },
  {
   "cell_type": "code",
   "execution_count": null,
   "metadata": {},
   "outputs": [],
   "source": [
    "%store "
   ]
  },
  {
   "cell_type": "code",
   "execution_count": null,
   "metadata": {},
   "outputs": [],
   "source": []
  }
 ],
 "metadata": {
  "kernelspec": {
   "display_name": "Python 3.10.8",
   "language": "python",
   "name": "python3"
  },
  "language_info": {
   "codemirror_mode": {
    "name": "ipython",
    "version": 3
   },
   "file_extension": ".py",
   "mimetype": "text/x-python",
   "name": "python",
   "nbconvert_exporter": "python",
   "pygments_lexer": "ipython3",
   "version": "3.10.8"
  },
  "vscode": {
   "interpreter": {
    "hash": "c00138ceddc4acb3aca3a3f75cd20227309fc08023e63bfda210cdfb2c889af2"
   }
  }
 },
 "nbformat": 4,
 "nbformat_minor": 2
}
