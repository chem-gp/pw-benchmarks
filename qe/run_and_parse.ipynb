{
 "cells": [
  {
   "attachments": {},
   "cell_type": "markdown",
   "metadata": {},
   "source": [
    "https://wiki.fysik.dtu.dk/ase/ase/calculators/espresso.html\n",
    "\n",
    "https://github.com/Yavar-Azar/Courses/tree/main/QE/ASE-QE"
   ]
  },
  {
   "cell_type": "code",
   "execution_count": null,
   "metadata": {},
   "outputs": [],
   "source": [
    "# ! export ASE_ESPRESSO_COMMAND=\"/path/to/pw.x -in PREFIX.pwi > PREFIX.pwo\""
   ]
  },
  {
   "cell_type": "code",
   "execution_count": null,
   "metadata": {},
   "outputs": [],
   "source": [
    "from ase.io import read, write\n",
    "from ase.calculators.espresso import Espresso"
   ]
  },
  {
   "cell_type": "code",
   "execution_count": null,
   "metadata": {},
   "outputs": [],
   "source": [
    "crystal=read(\"test/MIN-167-350K-CuCbPyz.cif\")"
   ]
  },
  {
   "cell_type": "code",
   "execution_count": null,
   "metadata": {},
   "outputs": [],
   "source": [
    "from ase.visualize import view\n",
    "\n",
    "view(crystal)"
   ]
  },
  {
   "cell_type": "code",
   "execution_count": null,
   "metadata": {},
   "outputs": [],
   "source": [
    "# inp_data={'prefix':\"myprefix\",'electron_maxstep':200,'outdir':\"./\",        'pseudo_dir':\"./\",'tstress':True,'tprnfor':True,'calculation':'scf', \n",
    "#  'ecutrho':240,'verbosity':'high','ecutwfc':30, 'diagonalization': 'david', 'occupations':'smearing','smearing':'mp', 'mixing_mode':'plain', 'mixing_beta':0.7,'degauss':0.001, 'nspin':1}\n",
    "\n",
    "# pseudodict={\"Na\":\"\", \"As\":\"As.pbe-n-rrkjus_psl.1.0.0.UPF\"}"
   ]
  },
  {
   "cell_type": "code",
   "execution_count": null,
   "metadata": {},
   "outputs": [],
   "source": [
    "crystal.calc=Espresso(pseudopotentials=pseudodict,input_data=inp_data, kpts=(1,1,1))\n",
    "crystal.get_potential_energy()"
   ]
  },
  {
   "cell_type": "code",
   "execution_count": null,
   "metadata": {},
   "outputs": [],
   "source": [
    "write(\"input.pwi\", crystal, pseudopotentials=pseudodict, input_data=inp_data, kpts=(1,1,1))"
   ]
  },
  {
   "cell_type": "code",
   "execution_count": null,
   "metadata": {},
   "outputs": [],
   "source": []
  },
  {
   "cell_type": "code",
   "execution_count": null,
   "metadata": {},
   "outputs": [],
   "source": [
    "# https://sites.google.com/site/dceresoli/pseudopotentials\n",
    "pseudopotentials = {'Na': 'Na.pbe-tm-gipaw-dc.UPF',\n",
    "                    'Cl': 'Cl.pbe-tm-gipaw.UPF',\n",
    "                    'Cu': 'Cu.pbe-tm-new-gipaw.UPF',\n",
    "                    'Sb': 'sb_pbe_v1.4.uspp.F.UPF', # copied from another folder\n",
    "                    'N': 'N.pbe-tm-new-gipaw-dc.UPF',\n",
    "                    'F': 'F.pbe-tm-new-gipaw-dc.UPF',\n",
    "                    'Si': 'Si.pbe-tm-new-gipaw-dc.UPF',\n",
    "                    'C': 'C.pbe-tm-new-gipaw-dc.UPF',\n",
    "                    'H': 'H.pbe-tm-new-gipaw-dc.UPF'\n",
    "                    }"
   ]
  },
  {
   "cell_type": "code",
   "execution_count": null,
   "metadata": {},
   "outputs": [],
   "source": [
    "import os\n",
    "os.chdir('../..')\n",
    "path = os.getcwd()\n",
    "print(path)\n"
   ]
  },
  {
   "cell_type": "code",
   "execution_count": null,
   "metadata": {},
   "outputs": [],
   "source": [
    "os.environ[\"ASE_ESPRESSO_COMMAND\"] = \"mpirun --oversubscribe -np 5 pw.x -in PREFIX.pwi > PREFIX.pwo\"\n",
    "os.environ[\"OMP_NUM_THREADS\"] = \"1,1\"\n",
    "\n",
    "head_dir = os.path.abspath(\"\")\n",
    "print(head_dir)"
   ]
  },
  {
   "cell_type": "code",
   "execution_count": null,
   "metadata": {},
   "outputs": [],
   "source": [
    "# !export ASE_ESPRESSO_COMMAND=\"mpirun -np 10 pw.x -in PREFIX.pwi > PREFIX.pwo\"; \n",
    "# !echo $ASE_ESPRESSO_COMMAND"
   ]
  },
  {
   "cell_type": "code",
   "execution_count": null,
   "metadata": {},
   "outputs": [],
   "source": [
    "!pkill -9 -f pw.x"
   ]
  },
  {
   "cell_type": "code",
   "execution_count": null,
   "metadata": {},
   "outputs": [],
   "source": [
    "from ase import units\n"
   ]
  },
  {
   "cell_type": "code",
   "execution_count": null,
   "metadata": {},
   "outputs": [],
   "source": [
    "%%time\n",
    "\n",
    "from ase.io import read, write\n",
    "\n",
    "from ase.build import bulk\n",
    "from ase.calculators.espresso import Espresso\n",
    "from ase.constraints import UnitCellFilter\n",
    "from ase.optimize import LBFGS\n",
    "\n",
    "import os\n",
    "from datetime import datetime\n",
    "# os.makedirs('test', exist_ok=True)\n",
    "# os.chdir('test')\n",
    "\n",
    "os.chdir(head_dir)\n",
    "# crystal=read(\"test/MIN-167-350K-CuCbPyz.cif\")\n",
    "tms = read(\"test/tms.xyz\")\n",
    "\n",
    "crystal = tms\n",
    "a = 20.0\n",
    "crystal.set_cell([a, a, a])\n",
    "crystal.set_cell([(a, 0, 0), (0, a, 0), (0, 0, a)])\n",
    "\n",
    "dir_name = f'{datetime.now().strftime(\"%Y-%m-%d_%I %M-%S_%p\")}'\n",
    "dir_name = 'test/' + dir_name\n",
    "os.makedirs(dir_name, exist_ok=False)\n",
    "os.chdir(dir_name)\n",
    "\n",
    "\n",
    "pseudo_dir = '../../Pseudopotentials'\n",
    "\n",
    "\n",
    "\n",
    "# crystal = bulk('NaCl', crystalstructure='rocksalt', a=6.0)\n",
    "\n",
    "\n",
    "# calc = Espresso(pseudopotentials=pseudopotentials, pseudo_dir = pseudo_dir,\n",
    "#                 tstress=True, tprnfor=True, ecutwfc=10, kpts=(3, 3, 3))\n",
    "# crystal.calc=Espresso(pseudopotentials=pseudodict,input_data=inp_data, kpts=(1,1,1))\n",
    "\n",
    "calc = Espresso(pseudopotentials=pseudopotentials, pseudo_dir = pseudo_dir,\n",
    "outdir = './outdir',  prefix = 'crystal', restart_mode = 'from_scratch',\n",
    "                tstress=True, tprnfor=True, nosym=True, \n",
    "                ecutwfc=50, kpts=(1, 1, 1), \n",
    "                ecutrho = 500,\n",
    "                occupations = 'smearing', smearing = 'gauss', degauss = 1.0e-2\n",
    "                )\n",
    "\n",
    "# write(\"input.pwi\", crystal, pseudopotentials=pseudodict, input_data=inp_data, kpts=(1,1,1))\n",
    "\n",
    "crystal.calc = calc\n",
    "\n",
    "# ucf = UnitCellFilter(rocksalt)\n",
    "# opt = LBFGS(ucf)\n",
    "# opt.run(fmax=0.005)\n",
    "\n",
    "# # cubic lattic constant\n",
    "# print((8*rocksalt.get_volume()/len(rocksalt))**(1.0/3.0))\n",
    "\n",
    "print(crystal.get_potential_energy())\n",
    "# print(rocksalt.get_forces())\n"
   ]
  },
  {
   "cell_type": "code",
   "execution_count": null,
   "metadata": {},
   "outputs": [],
   "source": [
    "# &inputgipaw\n",
    "#     job = 'nmr'\n",
    "#     prefix = 'TMS'\n",
    "#     tmp_dir = './outdir/'\n",
    "#     q_gipaw = 0.01\n",
    "#     spline_ps = .true.\n",
    "#     use_nmr_macroscopic_shape = .false.\n",
    "# /\n",
    "\n",
    "gipaw_input = \"\"\"&inputgipaw\n",
    "    job = 'nmr'\n",
    "    prefix = 'crystal'\n",
    "    tmp_dir = './outdir/'\n",
    "    q_gipaw = 0.01\n",
    "    spline_ps = .true.\n",
    "    use_nmr_macroscopic_shape = .false.\n",
    "/\n",
    "\"\"\"\n",
    "\n",
    "with open(\"espresso_gipaw.pwi\", \"w\") as f:\n",
    "#    lines = [\"Adding lines\\n\", \"writing into it \\n\", \"written successfully\\n\" ]\n",
    "   f.writelines(gipaw_input)\n",
    "   f.close()\n",
    "\n",
    "import subprocess\n",
    "f = open(\"espresso_gipaw.pwo\", \"a\")\n",
    "subprocess.call([\"mpi run -np 5\", \"-in \",  \"espresso_gipaw.pwi\"], stdout=f)\n",
    "\n",
    "subprocess.run([\"gipaw.x\", \"-in\", \"espresso_gipaw.pwi\", \">\", \"espresso_gipaw.pwo\"])"
   ]
  },
  {
   "cell_type": "code",
   "execution_count": null,
   "metadata": {},
   "outputs": [],
   "source": [
    "import psutil\n",
    " \n",
    "# Getting % usage of virtual_memory ( 3rd field)\n",
    "print('RAM memory % used:', psutil.virtual_memory()[2])\n",
    "# Getting usage of virtual_memory in GB ( 4th field)\n",
    "print('RAM Used (GB):', psutil.virtual_memory()[3]/1000000000)"
   ]
  },
  {
   "cell_type": "code",
   "execution_count": null,
   "metadata": {},
   "outputs": [],
   "source": [
    "os.chdir(head_dir)\n",
    "crystal=read(\"test/MIN-167-350K-CuCbPyz.cif\")\n",
    "\n",
    "\n"
   ]
  },
  {
   "cell_type": "code",
   "execution_count": null,
   "metadata": {},
   "outputs": [],
   "source": [
    "view(tms)"
   ]
  },
  {
   "cell_type": "code",
   "execution_count": null,
   "metadata": {},
   "outputs": [],
   "source": [
    "print( crystal.get_cell() )\n",
    "print( crystal.get_pbc() )"
   ]
  },
  {
   "attachments": {},
   "cell_type": "markdown",
   "metadata": {},
   "source": [
    "crystal=read(\"test/MIN-167-350K-CuCbPyz.cif\")\n",
    "crystal.get_forces()"
   ]
  },
  {
   "cell_type": "code",
   "execution_count": null,
   "metadata": {},
   "outputs": [],
   "source": [
    "view(crystal)"
   ]
  }
 ],
 "metadata": {
  "kernelspec": {
   "display_name": "qe",
   "language": "python",
   "name": "python3"
  },
  "language_info": {
   "codemirror_mode": {
    "name": "ipython",
    "version": 3
   },
   "file_extension": ".py",
   "mimetype": "text/x-python",
   "name": "python",
   "nbconvert_exporter": "python",
   "pygments_lexer": "ipython3",
   "version": "3.11.0"
  },
  "vscode": {
   "interpreter": {
    "hash": "7f9e1f951630cf78a0c5af59591778ad619c9c0abe78311d4904a75096bb096e"
   }
  }
 },
 "nbformat": 4,
 "nbformat_minor": 2
}
