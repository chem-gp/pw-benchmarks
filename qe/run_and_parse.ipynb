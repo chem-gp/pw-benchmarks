{
 "cells": [
  {
   "attachments": {},
   "cell_type": "markdown",
   "metadata": {},
   "source": [
    "To stop processes\n",
    "```bash\n",
    "pkill -9 -f pw.x\n",
    "pkill -9 -f gipaw.x\n",
    "\n",
    "```"
   ]
  },
  {
   "cell_type": "code",
   "execution_count": null,
   "metadata": {},
   "outputs": [],
   "source": [
    "import f90nml\n",
    "nml = f90nml.write('sample.nml')\n"
   ]
  },
  {
   "cell_type": "code",
   "execution_count": null,
   "metadata": {},
   "outputs": [],
   "source": [
    "crystal=read(\"test/MIN-167-350K-CuCbPyz.cif\")"
   ]
  },
  {
   "cell_type": "code",
   "execution_count": null,
   "metadata": {},
   "outputs": [],
   "source": [
    "from ase.io import read, write\n",
    "from ase.visualize import view\n",
    "# crystal=read(\"../structures/KTU-183_2_auto.cif\")\n",
    "crystal_264=read(\"../structures/new_systems/ktu_002.cif\")\n",
    "crystal_258=read(\"../structures/new_systems/KTU-065-25do-b.cif\")\n",
    "crystal_612=read(\"../structures/new_systems/KTU-TBS-20do_auto.cif\")\n",
    "# crystal=read(\"../structures/KTU-183_2_auto_dimer.xyz\")\n",
    "view([crystal_264, crystal_258, crystal_612])"
   ]
  },
  {
   "cell_type": "code",
   "execution_count": null,
   "metadata": {},
   "outputs": [],
   "source": [
    "from ase.visualize.plot import plot_atoms\n",
    "import matplotlib.pyplot as plt\n",
    "fig, ax = plt.subplots()\n",
    "plot_atoms(crystal_264, ax, radii=0.5, rotation=('0x,0y,90z'))\n",
    "# fig.savefig(\"ase_slab.png\")"
   ]
  },
  {
   "cell_type": "code",
   "execution_count": null,
   "metadata": {},
   "outputs": [],
   "source": []
  },
  {
   "cell_type": "code",
   "execution_count": null,
   "metadata": {},
   "outputs": [],
   "source": [
    "print(len(crystal1), len(crystal2), len(crystal3))"
   ]
  },
  {
   "attachments": {},
   "cell_type": "markdown",
   "metadata": {},
   "source": [
    "# Plot experimental spectra"
   ]
  },
  {
   "cell_type": "code",
   "execution_count": null,
   "metadata": {},
   "outputs": [],
   "source": [
    "import numpy as np\n",
    "import matplotlib.pyplot as plt\n",
    "\n",
    "nmr_spectrum_264 = np.loadtxt(\"../structures/new_systems/spectra/20220318_13C_Mingoo-KTU-O-TIPS-re.txt\", dtype=float)\n",
    "nmr_spectrum_264_x = np.linspace(283.67840576171875, -68.08218583648267, num=8192)\n",
    "nmr_spectrum_258 = np.loadtxt(\"../structures/new_systems/spectra/20211217_13C_Mingoo-KTU-TIPS-re.txt\", dtype=float)\n",
    "nmr_spectrum_258_x = np.linspace(283.9461975097656, -67.8144882603051, num=8192)\n",
    "nmr_spectrum_612 = np.loadtxt(\"../structures/new_systems/spectra/20211202_13C_Mingoo-KTU-TBS.txt\", dtype=float)\n",
    "nmr_spectrum_612_x = np.linspace( 283.67840576171875, -67.8144882603051, num=8187)\n",
    "\n",
    "print(nmr_spectrum_264.shape)\n",
    "\n",
    "plt.plot(nmr_spectrum_264_x, nmr_spectrum_264)\n",
    "plt.gca().invert_xaxis()\n",
    "plt.xlabel(\"chemical shift, ppm\")\n",
    "plt.show()\n",
    "plt.plot(nmr_spectrum_258_x, nmr_spectrum_258)\n",
    "plt.gca().invert_xaxis()\n",
    "plt.xlabel(\"chemical shift, ppm\")\n",
    "plt.show()\n",
    "plt.plot(nmr_spectrum_612_x, nmr_spectrum_612)\n",
    "plt.gca().invert_xaxis()\n",
    "plt.xlabel(\"chemical shift, ppm\")\n",
    "plt.show()"
   ]
  },
  {
   "cell_type": "code",
   "execution_count": null,
   "metadata": {},
   "outputs": [],
   "source": [
    "nmr_spectrum_612.shape"
   ]
  },
  {
   "attachments": {},
   "cell_type": "markdown",
   "metadata": {},
   "source": [
    "# Main calculation"
   ]
  },
  {
   "cell_type": "code",
   "execution_count": null,
   "metadata": {},
   "outputs": [],
   "source": [
    "%%time\n",
    "%load_ext autoreload\n",
    "%autoreload 2\n",
    "\n",
    "from runner import pw_runner\n",
    "from ase.io import read, write\n",
    "\n",
    "import time\n",
    "\n",
    "import os\n",
    "\n",
    "# Defining parameters:\n",
    "\n",
    "np_pw = 13\n",
    "np_gipaw = 13\n",
    "\n",
    "pw_params = {\n",
    "    'prefix':'crystal', \n",
    "    'restart_mode' : 'from_scratch',\n",
    "    'tstress':True, \n",
    "    'tprnfor':True, \n",
    "    'nosym':True, \n",
    "    'ecutwfc':10, \n",
    "    'kpts':(1, 1, 1),\n",
    "    # 'kpts':None, \n",
    "    'ecutrho' : 100,\n",
    "    # 'occupations' : 'smearing', \n",
    "    # 'smearing' : 'gauss', \n",
    "    # 'degauss' : 1.0e-2\n",
    "}\n",
    "\n",
    "# Loading structures:\n",
    "\n",
    "# crystal=read(\"../structures/MIN-167-350K-CuCbPyz.cif\")\n",
    "# crystal=read(\"../structures/HIK-143 293K-activated.cif\")\n",
    "# crystal=read(\"../structures/HIK-143 MeOH.cif\")\n",
    "# crystal=read(\"../structures/KTU-183_2_auto.cif\")\n",
    "crystal_264=read(\"../structures/new_systems/ktu_002.cif\")\n",
    "crystal_258=read(\"../structures/new_systems/KTU-065-25do-b.cif\")\n",
    "crystal_612=read(\"../structures/new_systems/KTU-TBS-20do_auto.cif\")\n",
    "\n",
    "crystal = crystal_258\n",
    "\n",
    "tms = read(\"../structures/tms.xyz\")\n",
    "# crystal = tms\n",
    "a = 10.0\n",
    "tms.set_cell([a, a, a])\n",
    "tms.set_cell([(a, 0, 0), (0, a, 0), (0, 0, a)])\n",
    "tms.set_pbc(True)\n",
    "\n",
    "# Creating directory to store all the data:\n",
    "calc_dir = pw_runner.make_calc_dir()\n",
    "\n",
    "\n",
    "print(\"Starting QE/SCF calculation for TMS...\")\n",
    "pw_runner.run_pw_scf(calc_dir, tms, num_proc_pw=np_pw, pw_params=pw_params)\n",
    "print(\"Starting gipaw calculation for TMS...\")\n",
    "gipaw_out = pw_runner.run_gipaw(calc_dir, \"espresso_gipaw_tms.pwo\", num_proc_gipaw=np_gipaw)\n",
    "chemical_shifts_iso, chemical_shifts_tensors = pw_runner.parse_gipaw_output(calc_dir + '/espresso_gipaw_tms.pwo', num_atoms=len(tms))\n",
    "tms.info['chemical_shifts_iso'] = chemical_shifts_iso\n",
    "tms.info['chemical_shifts_tensors'] = chemical_shifts_tensors\n",
    "write(calc_dir+\"/tms.xyz\", tms, format='extxyz')\n",
    "os.rename(calc_dir+\"/espresso.pwo\", calc_dir+\"/espresso_tms.pwo\")\n",
    "\n",
    "print(\"Starting QE/SCF calculation for crystal...\")\n",
    "pw_runner.run_pw_scf(calc_dir, crystal, num_proc_pw=np_pw, pw_params=pw_params)\n",
    "print(\"Starting gipaw calculation for crystal...\")\n",
    "gipaw_out = pw_runner.run_gipaw(calc_dir, \"espresso_gipaw.pwo\", num_proc_gipaw=np_gipaw)\n",
    "chemical_shifts_iso, chemical_shifts_tensors = pw_runner.parse_gipaw_output(calc_dir + '/espresso_gipaw.pwo', num_atoms=len(crystal))\n",
    "crystal.info['chemical_shifts_iso'] = chemical_shifts_iso\n",
    "crystal.info['chemical_shifts_tensors'] = chemical_shifts_tensors\n",
    "write(calc_dir+\"/crystal.xyz\", crystal, format='extxyz')"
   ]
  },
  {
   "cell_type": "code",
   "execution_count": null,
   "metadata": {},
   "outputs": [],
   "source": [
    "from runner.plot import plot_chemical_shifts\n",
    "\n",
    "path1 = \"/media/dlb/la_cie1/repos/pw-benchmarks/qe/test/2023-01-10_17 40-57_007593\"\n",
    "path2 = \"/media/dlb/la_cie1/repos/pw-benchmarks/qe/test/2023-01-11_18 05-03_816467\"\n",
    "\n",
    "crystal1 = read(path1+\"/crystal.xyz\", format=\"extxyz\")\n",
    "crystal2 = read(path2+\"/crystal.xyz\", format=\"extxyz\")\n",
    "\n",
    "ch1= plot_chemical_shifts(crystal1, \"./test\")\n",
    "ch2 = plot_chemical_shifts(crystal2, \"./test\")\n",
    "\n",
    "print(ch1['H']-ch2['H']) \n",
    "# print(ch1['C']-ch2['C'])"
   ]
  },
  {
   "cell_type": "code",
   "execution_count": null,
   "metadata": {},
   "outputs": [],
   "source": [
    "import matplotlib.pyplot as plt\n",
    "import numpy as np\n",
    "\n",
    "x = np.arange(1, len(scf_times)+1, 1, dtype=int)\n",
    "plt.plot(x, scf_times_5, label='SCF time')\n",
    "plt.plot(x, gipaw_times_5, label='GIPAW time')\n",
    "plt.xticks(x)\n",
    "plt.xlabel('Num. of MPI processes')\n",
    "plt.ylabel('Time, s.')\n",
    "plt.legend()\n",
    "plt.show()"
   ]
  },
  {
   "cell_type": "code",
   "execution_count": null,
   "metadata": {},
   "outputs": [],
   "source": [
    "x"
   ]
  },
  {
   "cell_type": "code",
   "execution_count": null,
   "metadata": {},
   "outputs": [],
   "source": [
    "print(start_time, scf_time, gipaw_time-start_time)"
   ]
  },
  {
   "cell_type": "code",
   "execution_count": null,
   "metadata": {},
   "outputs": [],
   "source": [
    "struct = read(calc_dir+\"/crystal.xyz\", format=\"extxyz\")\n",
    "print( struct.get_potential_energy() )\n",
    "print( struct.get_forces() )\n",
    "print( struct.info['chemical_shifts_iso'])\n",
    "print( struct.info['chemical_shifts_tensors'])"
   ]
  },
  {
   "cell_type": "code",
   "execution_count": null,
   "metadata": {},
   "outputs": [],
   "source": [
    "import psutil\n",
    " \n",
    "# Getting % usage of virtual_memory ( 3rd field)\n",
    "print('RAM memory % used:', psutil.virtual_memory()[2])\n",
    "# Getting usage of virtual_memory in GB ( 4th field)\n",
    "print('RAM Used (GB):', psutil.virtual_memory()[3]/1000000000)"
   ]
  },
  {
   "attachments": {},
   "cell_type": "markdown",
   "metadata": {},
   "source": [
    "crystal=read(\"test/MIN-167-350K-CuCbPyz.cif\")\n",
    "crystal.get_forces()"
   ]
  },
  {
   "cell_type": "code",
   "execution_count": null,
   "metadata": {},
   "outputs": [],
   "source": [
    "import numpy as np\n",
    "\n",
    "from ase.build import molecule\n",
    "\n",
    "import torch\n",
    "\n",
    "atoms = molecule('CH3CH2NH2')\n",
    "\n",
    "store_data = {\n",
    "        'aaa': np.random.randn(300, 300),\n",
    "        'bbb': \"hello\"\n",
    "}\n",
    "\n",
    "\n",
    "torch_data = torch.rand(2000, 3000)\n",
    "\n",
    "atoms.info['store_data'] = store_data\n",
    "\n",
    "atoms.info['torch_data'] = torch_data\n",
    "\n",
    "\n",
    "\n",
    "%store atoms"
   ]
  },
  {
   "cell_type": "code",
   "execution_count": null,
   "metadata": {},
   "outputs": [],
   "source": [
    "# $HOME/.ipython/profile_default/db/autorestore\n",
    "%store\n"
   ]
  },
  {
   "cell_type": "code",
   "execution_count": null,
   "metadata": {},
   "outputs": [],
   "source": [
    "%store "
   ]
  }
 ],
 "metadata": {
  "kernelspec": {
   "display_name": "Python 3",
   "language": "python",
   "name": "python3"
  },
  "language_info": {
   "codemirror_mode": {
    "name": "ipython",
    "version": 3
   },
   "file_extension": ".py",
   "mimetype": "text/x-python",
   "name": "python",
   "nbconvert_exporter": "python",
   "pygments_lexer": "ipython3",
   "version": "3.11.0"
  },
  "vscode": {
   "interpreter": {
    "hash": "7f9e1f951630cf78a0c5af59591778ad619c9c0abe78311d4904a75096bb096e"
   }
  }
 },
 "nbformat": 4,
 "nbformat_minor": 2
}
