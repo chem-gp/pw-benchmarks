{
 "cells": [
  {
   "attachments": {},
   "cell_type": "markdown",
   "metadata": {},
   "source": [
    "https://wiki.fysik.dtu.dk/ase/ase/calculators/espresso.html\n",
    "\n",
    "https://github.com/Yavar-Azar/Courses/tree/main/QE/ASE-QE"
   ]
  },
  {
   "cell_type": "code",
   "execution_count": null,
   "metadata": {},
   "outputs": [],
   "source": [
    "# ! export ASE_ESPRESSO_COMMAND=\"/path/to/pw.x -in PREFIX.pwi > PREFIX.pwo\""
   ]
  },
  {
   "cell_type": "code",
   "execution_count": null,
   "metadata": {},
   "outputs": [],
   "source": [
    "from ase.io import read, write\n",
    "from ase.calculators.espresso import Espresso"
   ]
  },
  {
   "cell_type": "code",
   "execution_count": null,
   "metadata": {},
   "outputs": [],
   "source": [
    "crystal=read(\"MIN-167-350K-CuCbPyz.cif\")"
   ]
  },
  {
   "cell_type": "code",
   "execution_count": null,
   "metadata": {},
   "outputs": [],
   "source": [
    "inp_data={'prefix':\"myprefix\",'electron_maxstep':200,'outdir':\"./\",        'pseudo_dir':\"./\",'tstress':True,'tprnfor':True,'calculation':'scf', \n",
    " 'ecutrho':240,'verbosity':'high','ecutwfc':30, 'diagonalization': 'david', 'occupations':'smearing','smearing':'mp', 'mixing_mode':'plain', 'mixing_beta':0.7,'degauss':0.001, 'nspin':1}\n",
    "\n",
    "# pseudodict={\"Na\":\"\", \"As\":\"As.pbe-n-rrkjus_psl.1.0.0.UPF\"}"
   ]
  },
  {
   "cell_type": "code",
   "execution_count": null,
   "metadata": {},
   "outputs": [],
   "source": [
    "crystal.calc=Espresso(pseudopotentials=pseudodict,input_data=inp_data, kpts=(1,1,1))\n",
    "crystal.get_potential_energy()"
   ]
  },
  {
   "cell_type": "code",
   "execution_count": null,
   "metadata": {},
   "outputs": [],
   "source": [
    "write(\"input.pwi\", crystal, pseudopotentials=pseudodict, input_data=inp_data, kpts=(1,1,1))"
   ]
  },
  {
   "cell_type": "code",
   "execution_count": null,
   "metadata": {},
   "outputs": [],
   "source": []
  },
  {
   "cell_type": "code",
   "execution_count": null,
   "metadata": {},
   "outputs": [],
   "source": [
    "# https://sites.google.com/site/dceresoli/pseudopotentials\n",
    "pseudopotentials = {'Na': 'Na.pbe-tm-gipaw-dc.UPF',\n",
    "                    'Cl': 'Cl.pbe-tm-gipaw.UPF'}"
   ]
  },
  {
   "cell_type": "code",
   "execution_count": null,
   "metadata": {},
   "outputs": [],
   "source": [
    "import os\n",
    "os.chdir('../..')\n",
    "path = os.getcwd()\n",
    "print(path)\n"
   ]
  },
  {
   "cell_type": "code",
   "execution_count": null,
   "metadata": {},
   "outputs": [],
   "source": [
    "__file__"
   ]
  },
  {
   "cell_type": "code",
   "execution_count": null,
   "metadata": {},
   "outputs": [],
   "source": [
    "os.path.abspath(\"\")"
   ]
  },
  {
   "cell_type": "code",
   "execution_count": null,
   "metadata": {},
   "outputs": [],
   "source": [
    "from ase.build import bulk\n",
    "from ase.calculators.espresso import Espresso\n",
    "from ase.constraints import UnitCellFilter\n",
    "from ase.optimize import LBFGS\n",
    "\n",
    "\n",
    "import os\n",
    "from datetime import datetime\n",
    "# os.makedirs('test', exist_ok=True)\n",
    "# os.chdir('test')\n",
    "dir_name = f'{datetime.now().strftime(\"%Y-%m-%d_%I %M-%S_%p\")}'\n",
    "dir_name = 'test/' + dir_name\n",
    "\n",
    "os.makedirs(dir_name, exist_ok=False)\n",
    "os.chdir(dir_name)\n",
    "\n",
    "\n",
    "pseudo_dir = '../../Pseudopotentials'\n",
    "\n",
    "rocksalt = bulk('NaCl', crystalstructure='rocksalt', a=6.0)\n",
    "# calc = Espresso(pseudopotentials=pseudopotentials, pseudo_dir = pseudo_dir,\n",
    "#                 tstress=True, tprnfor=True, ecutwfc=10, kpts=(3, 3, 3))\n",
    "# crystal.calc=Espresso(pseudopotentials=pseudodict,input_data=inp_data, kpts=(1,1,1))\n",
    "\n",
    "calc = Espresso(pseudopotentials=pseudopotentials, pseudo_dir = pseudo_dir,\n",
    "                tstress=True, tprnfor=True, ecutwfc=20, kpts=(3, 3, 3))\n",
    "\n",
    "rocksalt.calc = calc\n",
    "\n",
    "ucf = UnitCellFilter(rocksalt)\n",
    "opt = LBFGS(ucf)\n",
    "opt.run(fmax=0.005)\n",
    "\n",
    "# cubic lattic constant\n",
    "print((8*rocksalt.get_volume()/len(rocksalt))**(1.0/3.0))\n",
    "\n",
    "os.chdir('../..')"
   ]
  },
  {
   "cell_type": "code",
   "execution_count": null,
   "metadata": {},
   "outputs": [],
   "source": [
    "__file__"
   ]
  }
 ],
 "metadata": {
  "kernelspec": {
   "display_name": "qe",
   "language": "python",
   "name": "python3"
  },
  "language_info": {
   "codemirror_mode": {
    "name": "ipython",
    "version": 3
   },
   "file_extension": ".py",
   "mimetype": "text/x-python",
   "name": "python",
   "nbconvert_exporter": "python",
   "pygments_lexer": "ipython3",
   "version": "3.11.0"
  },
  "vscode": {
   "interpreter": {
    "hash": "7f9e1f951630cf78a0c5af59591778ad619c9c0abe78311d4904a75096bb096e"
   }
  }
 },
 "nbformat": 4,
 "nbformat_minor": 2
}
