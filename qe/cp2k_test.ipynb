{
 "cells": [
  {
   "cell_type": "code",
   "execution_count": null,
   "metadata": {},
   "outputs": [],
   "source": [
    "pkill -9 -f cp2k_shell.psmp"
   ]
  },
  {
   "cell_type": "code",
   "execution_count": null,
   "metadata": {},
   "outputs": [],
   "source": [
    "# https://github.com/ltalirz/ase/blob/master/cp2k.py\n",
    "\n",
    "# default_parameters = dict(\n",
    "#     xc='LDA',\n",
    "#     basis_set='DZVP-MOLOPT-SR-GTH',\n",
    "#     pseudo_potential='auto',\n",
    "#     basis_set_file='BASIS_MOLOPT',\n",
    "#     potential_file='POTENTIAL',\n",
    "#     max_scf=50,\n",
    "#     cutoff=400 * Rydberg,\n",
    "#     charge=0,\n",
    "# )"
   ]
  },
  {
   "cell_type": "code",
   "execution_count": null,
   "metadata": {},
   "outputs": [],
   "source": [
    "import os\n",
    "\n",
    "print(os.getcwd())"
   ]
  },
  {
   "attachments": {},
   "cell_type": "markdown",
   "metadata": {},
   "source": [
    "https://aip.scitation.org/doi/10.1063/5.0007045"
   ]
  },
  {
   "cell_type": "code",
   "execution_count": null,
   "metadata": {},
   "outputs": [],
   "source": [
    "%%time\n",
    "# https://www.cp2k.org/_media/events:2016_summer_school:running_cp2k_calculations.pdf\n",
    "# ! export ASE_CP2K_COMMAND=\"mpirun -n 2 cp2k_shell\"\n",
    "# https://gitlab.com/ase/ase/tree/master/ase/test/calculator/cp2k\n",
    "# conda install -c conda-forge cp2k ase ipywidgets\n",
    "# conda create --name cp2k\n",
    "# y\n",
    "# CP2K.command=\"env OMP_NUM_THREADS=2 mpiexec -np 4 cp2k_shell.psmp\"\n",
    "\n",
    "# conda install -c conda-forge cp2k\n",
    "#  conda install -c conda-forge cp2k=8.2.0=py38_openmpi_1\n",
    "import os\n",
    "os.environ['ASE_CP2K_COMMAND'] = \"mpirun -n 2 cp2k_shell.psmp\"\n",
    "os.environ['CP2K_DATA_DIR'] = '/media/dlb/la_cie1/repos/pw-benchmarks/qe/Pseudopotentials/cp2k'\n",
    "# os.environ['CP2K_DATA_DIR'] = '/home/dlb/Downloads'\n",
    "# \"/home/dlb/Downloadscp2k-2023.1-Linux-gnu-x86_64.ssmp\"\n",
    "\n",
    "from ase.calculators.cp2k import CP2K\n",
    "from ase.build import molecule\n",
    "from ase.io import read, write\n",
    "from ase.units import Rydberg\n",
    "\n",
    "calc = CP2K(directory='test/cp2k',cutoff=2*Rydberg)\n",
    "\n",
    "crystal=read(\"../structures/KTU-183_2_auto.cif\")\n",
    "atoms = crystal\n",
    "atoms.calc = calc\n",
    "\n",
    "# atoms = molecule('H2O', calculator=calc)\n",
    "# atoms.center(vacuum=2.0)\n",
    "# print(atoms.get_potential_energy())\n",
    "print(atoms.get_forces())"
   ]
  },
  {
   "cell_type": "code",
   "execution_count": null,
   "metadata": {},
   "outputs": [],
   "source": [
    "! echo $CP2K_DATA_DIR"
   ]
  },
  {
   "cell_type": "code",
   "execution_count": null,
   "metadata": {},
   "outputs": [],
   "source": [
    "2*Rydberg"
   ]
  },
  {
   "cell_type": "code",
   "execution_count": null,
   "metadata": {},
   "outputs": [],
   "source": [
    "import os\n",
    "os.environ['ASE_CP2K_COMMAND'] = \"mpirun -n 2 cp2k_shell.psmp\"\n",
    "os.environ['CP2K_DATA_DIR'] = '/media/dlb/la_cie1/repos/pw-benchmarks/qe/Pseudopotentials/cp2k'\n",
    "\n",
    "from ase.calculators.cp2k import CP2K\n",
    "from ase.build import molecule\n",
    "calc = CP2K()\n",
    "atoms = molecule('H2O', calculator=calc)\n",
    "atoms.center(vacuum=2.0)\n",
    "print(atoms.get_potential_energy())"
   ]
  }
 ],
 "metadata": {
  "kernelspec": {
   "display_name": "cp2k",
   "language": "python",
   "name": "python3"
  },
  "language_info": {
   "codemirror_mode": {
    "name": "ipython",
    "version": 3
   },
   "file_extension": ".py",
   "mimetype": "text/x-python",
   "name": "python",
   "nbconvert_exporter": "python",
   "pygments_lexer": "ipython3",
   "version": "3.11.0"
  },
  "vscode": {
   "interpreter": {
    "hash": "28be12e5d2ebfabb063358a5a18350791afb321e70ca2672c37c234b6fd64919"
   }
  }
 },
 "nbformat": 4,
 "nbformat_minor": 2
}
