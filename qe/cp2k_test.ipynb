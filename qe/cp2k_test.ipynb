{
 "cells": [
  {
   "cell_type": "code",
   "execution_count": null,
   "metadata": {},
   "outputs": [],
   "source": [
    "pkill -9 -f cp2k_shell.psmp"
   ]
  },
  {
   "cell_type": "code",
   "execution_count": null,
   "metadata": {},
   "outputs": [],
   "source": [
    "# https://github.com/ltalirz/ase/blob/master/cp2k.py\n",
    "\n",
    "# default_parameters = dict(\n",
    "#     xc='LDA',\n",
    "#     basis_set='DZVP-MOLOPT-SR-GTH',\n",
    "#     pseudo_potential='auto',\n",
    "#     basis_set_file='BASIS_MOLOPT',\n",
    "#     potential_file='POTENTIAL',\n",
    "#     max_scf=50,\n",
    "#     cutoff=400 * Rydberg,\n",
    "#     charge=0,\n",
    "# )"
   ]
  },
  {
   "cell_type": "code",
   "execution_count": null,
   "metadata": {},
   "outputs": [],
   "source": [
    "import os\n",
    "\n",
    "print(os.getcwd())"
   ]
  },
  {
   "attachments": {},
   "cell_type": "markdown",
   "metadata": {},
   "source": [
    "https://aip.scitation.org/doi/10.1063/5.0007045"
   ]
  },
  {
   "cell_type": "code",
   "execution_count": null,
   "metadata": {},
   "outputs": [],
   "source": [
    "%%time\n",
    "# https://www.cp2k.org/_media/events:2016_summer_school:running_cp2k_calculations.pdf\n",
    "# ! export ASE_CP2K_COMMAND=\"mpirun -n 2 cp2k_shell\"\n",
    "# https://gitlab.com/ase/ase/tree/master/ase/test/calculator/cp2k\n",
    "# conda install -c conda-forge cp2k ase ipywidgets\n",
    "# conda create --name cp2k\n",
    "# y\n",
    "# CP2K.command=\"env OMP_NUM_THREADS=2 mpiexec -np 4 cp2k_shell.psmp\"\n",
    "\n",
    "# conda install -c conda-forge cp2k\n",
    "#  conda install -c conda-forge cp2k=8.2.0=py38_openmpi_1\n",
    "import os\n",
    "os.environ['ASE_CP2K_COMMAND'] = \"mpirun -n 2 cp2k_shell.psmp\"\n",
    "os.environ['CP2K_DATA_DIR'] = '/media/dlb/la_cie1/repos/pw-benchmarks/qe/Pseudopotentials/cp2k'\n",
    "# os.environ['CP2K_DATA_DIR'] = '/home/dlb/Downloads'\n",
    "# \"/home/dlb/Downloadscp2k-2023.1-Linux-gnu-x86_64.ssmp\"\n",
    "\n",
    "from ase.calculators.cp2k import CP2K\n",
    "from ase.build import molecule\n",
    "from ase.io import read, write\n",
    "from ase.units import Rydberg\n",
    "\n",
    "inp = '''! Number of unit cell replications, increase this to create a large polymer.\n",
    "&FORCE_EVAL\n",
    "  &DFT\n",
    "    ! linear scaling SCF\n",
    "    &LS_SCF\n",
    "      ! TRS4, does not need an estimate for the chemical potential\n",
    "      PURIFICATION_METHOD TRS4\n",
    "      ! threshold used to determine sparsity and thus speed and accuracy\n",
    "      EPS_FILTER 1E-5  \n",
    "      ! convergence for the SCF\n",
    "      EPS_SCF    1E-5\n",
    "      ! chemical potential, an energy from within in the HOMO-LUMO gap\n",
    "      MU         -0.15 \n",
    "      S_PRECONDITIONER ATOMIC\n",
    "    &END\n",
    "\n",
    "    ! traditional SCF, diagonalization by default\n",
    "    &SCF\n",
    "    &END\n",
    "\n",
    "    &QS\n",
    "      LS_SCF  ! Turns on linear scaling DFT. Comment this line to run with standard SCF.\n",
    "\n",
    "      ! =============================================================================================\n",
    "      ! === Description of Hamiltonian (Density Functional Tight Binding + Smooth Particle Meshed Ewald) ===\n",
    "      METHOD DFTB\n",
    "      &DFTB\n",
    "        HB_SR_GAMMA \n",
    "        SELF_CONSISTENT    T\n",
    "        DO_EWALD           T\n",
    "        DISPERSION         T\n",
    "        &PARAMETER\n",
    "          ! these parameters are in cp2k/data\n",
    "          PARAM_FILE_PATH  ./DFTB/scc\n",
    "          PARAM_FILE_PATH  scc_parameter\n",
    "          UFF_FORCE_FIELD  uff_table\n",
    "        &END PARAMETER\n",
    "      &END DFTB\n",
    "    &END QS\n",
    "\n",
    "    &POISSON\n",
    "      &EWALD\n",
    "       EWALD_TYPE SPME\n",
    "       ! scale the number of points with the system size, roughly 1pt/A.\n",
    "       GMAX 40 40 40\n",
    "       O_SPLINE 5\n",
    "      &END EWALD\n",
    "    &END POISSON\n",
    "   ! ==============================End of Hamiltonian Description ================================\n",
    "   ! =============================================================================================\n",
    "  &END DFT\n",
    "\n",
    "&END FORCE_EVAL\n",
    " '''\n",
    "\n",
    "# inp = '''&FORCE_EVAL\n",
    "#    &DFT\n",
    "#      &KPOINTS\n",
    "#        SCHEME MONKHORST-PACK 12 12 8\n",
    "#      &END KPOINTS\n",
    "#      &SCF\n",
    "#        ADDED_MOS 10\n",
    "#        &SMEAR\n",
    "#          METHOD FERMI_DIRAC\n",
    "#          ELECTRONIC_TEMPERATURE [K] 500.0\n",
    "#        &END SMEAR\n",
    "#      &END SCF\n",
    "#    &END DFT\n",
    "#  &END FORCE_EVAL\n",
    "#  '''\n",
    "\n",
    "\n",
    "calc = CP2K(directory='test/cp2k',inp=inp)\n",
    "\n",
    "crystal=read(\"../structures/KTU-183_2_auto.cif\")\n",
    "# atoms = crystal\n",
    "# atoms.calc = calc\n",
    "\n",
    "atoms = molecule('H2O', calculator=calc)\n",
    "atoms.center(vacuum=2.0)\n",
    "print(atoms.get_potential_energy())\n",
    "print(atoms.get_forces())"
   ]
  },
  {
   "cell_type": "code",
   "execution_count": null,
   "metadata": {},
   "outputs": [],
   "source": [
    "! echo $CP2K_DATA_DIR"
   ]
  },
  {
   "cell_type": "code",
   "execution_count": null,
   "metadata": {},
   "outputs": [],
   "source": [
    "2*Rydberg"
   ]
  },
  {
   "cell_type": "code",
   "execution_count": null,
   "metadata": {},
   "outputs": [],
   "source": [
    "import os\n",
    "os.environ['ASE_CP2K_COMMAND'] = \"mpirun -n 2 cp2k_shell.psmp\"\n",
    "os.environ['CP2K_DATA_DIR'] = '/media/dlb/la_cie1/repos/pw-benchmarks/qe/Pseudopotentials/cp2k'\n",
    "\n",
    "from ase.calculators.cp2k import CP2K\n",
    "from ase.build import molecule\n",
    "calc = CP2K()\n",
    "atoms = molecule('H2O', calculator=calc)\n",
    "atoms.center(vacuum=2.0)\n",
    "print(atoms.get_potential_energy())"
   ]
  }
 ],
 "metadata": {
  "kernelspec": {
   "display_name": "cp2k",
   "language": "python",
   "name": "python3"
  },
  "language_info": {
   "codemirror_mode": {
    "name": "ipython",
    "version": 3
   },
   "file_extension": ".py",
   "mimetype": "text/x-python",
   "name": "python",
   "nbconvert_exporter": "python",
   "pygments_lexer": "ipython3",
   "version": "3.11.0 | packaged by conda-forge | (main, Oct 25 2022, 06:24:40) [GCC 10.4.0]"
  },
  "vscode": {
   "interpreter": {
    "hash": "28be12e5d2ebfabb063358a5a18350791afb321e70ca2672c37c234b6fd64919"
   }
  }
 },
 "nbformat": 4,
 "nbformat_minor": 2
}
